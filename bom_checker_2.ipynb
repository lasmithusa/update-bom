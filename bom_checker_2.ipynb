{
 "nbformat": 4,
 "nbformat_minor": 2,
 "metadata": {
  "language_info": {
   "name": "python",
   "codemirror_mode": {
    "name": "ipython",
    "version": 3
   },
   "version": "3.7.1-final"
  },
  "orig_nbformat": 2,
  "file_extension": ".py",
  "mimetype": "text/x-python",
  "name": "python",
  "npconvert_exporter": "python",
  "pygments_lexer": "ipython3",
  "version": 3,
  "kernelspec": {
   "name": "python37164bitbasecondade2932ff506c43939f72327047679418",
   "display_name": "Python 3.7.1 64-bit ('base': conda)"
  }
 },
 "cells": [
  {
   "cell_type": "code",
   "execution_count": 1,
   "metadata": {},
   "outputs": [],
   "source": [
    "import pandas as pd\n",
    "import numpy as np\n",
    "from id_nodes import id_nodes\n",
    "import id_changes\n",
    "import update_bom\n",
    "import importlib\n",
    "import format_xlsx"
   ]
  },
  {
   "cell_type": "code",
   "execution_count": 2,
   "metadata": {},
   "outputs": [],
   "source": [
    "master_bom_path = r\"..\\ShortMaster-0015442-FS-8100-BOM-20200326.xlsx\"\n",
    "new_bom_path = r\"..\\ShortTest-0015442-FS-8100-BOM-20200326.xlsx\""
   ]
  },
  {
   "cell_type": "code",
   "execution_count": 3,
   "metadata": {},
   "outputs": [],
   "source": [
    "master_bom_df = pd.read_excel(master_bom_path)\n",
    "new_bom_df = pd.read_excel(new_bom_path)"
   ]
  },
  {
   "cell_type": "code",
   "execution_count": 4,
   "metadata": {},
   "outputs": [],
   "source": [
    "master_bom_df.index.set_names('Order', inplace=True)\n",
    "new_bom_df.index.set_names('Order', inplace=True)"
   ]
  },
  {
   "cell_type": "code",
   "execution_count": 5,
   "metadata": {},
   "outputs": [],
   "source": [
    "master_bom_df['Node ID'] = id_nodes(master_bom_df)\n",
    "new_bom_df['Node ID'] = id_nodes(new_bom_df)"
   ]
  },
  {
   "cell_type": "code",
   "execution_count": 6,
   "metadata": {},
   "outputs": [],
   "source": [
    "master_bom_df.set_index('Node ID', append=True, inplace=True)\n",
    "new_bom_df.set_index('Node ID', append=True, inplace=True)"
   ]
  },
  {
   "cell_type": "code",
   "execution_count": 7,
   "metadata": {},
   "outputs": [],
   "source": [
    "main_widths = [5, 60, 60, 60, 15, 60, 10, 10, 15]\n",
    "key_width = 23"
   ]
  },
  {
   "cell_type": "code",
   "execution_count": 28,
   "metadata": {},
   "outputs": [
    {
     "output_type": "execute_result",
     "data": {
      "text/plain": "                                                          Level  \\\nOrder Node ID                                                     \n0     ->0015442.asm                                           0   \n1     0015442.asm->0019043.prt                                1   \n2     0015442.asm->0018435.asm                                1   \n3     0015442.asm->0018435.asm->0018442.asm                   2   \n4     0015442.asm->0018435.asm->0018442.asm->0018441.prt      3   \n5     0015442.asm->0018435.asm->0018442.asm->0018541.prt      3   \n6     0015442.asm->0018435.asm->0018442.asm->0011799.prt      3   \n7     0015442.asm->0018435.asm->0018442.asm->0014161.prt      3   \n8     0015442.asm->0018435.asm->0018442.asm->0012468.prt      3   \n9     0015442.asm->0018435.asm->0018436.prt                   2   \n10    0015442.asm->0018435.asm->0018437.prt                   2   \n11    0015442.asm->0018435.asm->0018438.prt                   2   \n12    0015442.asm->0018435.asm->0014175.prt                   2   \n\n                                                                        File Name  \\\nOrder Node ID                                                                       \n0     ->0015442.asm                                                   0015442.asm   \n1     0015442.asm->0019043.prt                                        0019043.prt   \n2     0015442.asm->0018435.asm                                        0018435.asm   \n3     0015442.asm->0018435.asm->0018442.asm                           0018442.asm   \n4     0015442.asm->0018435.asm->0018442.asm->0018441.prt              0018441.prt   \n5     0015442.asm->0018435.asm->0018442.asm->0018541.prt              0018541.prt   \n6     0015442.asm->0018435.asm->0018442.asm->0011799.prt              0011799.prt   \n7     0015442.asm->0018435.asm->0018442.asm->0014161.prt              0014161.prt   \n8     0015442.asm->0018435.asm->0018442.asm->0012468.prt              0012468.prt   \n9     0015442.asm->0018435.asm->0018436.prt                           0018436.prt   \n10    0015442.asm->0018435.asm->0018437.prt                           0018437.prt   \n11    0015442.asm->0018435.asm->0018438.prt                           0018438.prt   \n12    0015442.asm->0018435.asm->0014175.prt                           0014175.prt   \n\n                                                                                                       Name  \\\nOrder Node ID                                                                                                 \n0     ->0015442.asm                                                                             0015442.asm   \n1     0015442.asm->0019043.prt                                                     FS-8100 ID SURFACE MODEL   \n2     0015442.asm->0018435.asm                                              FS-8100 Chassis assembly - full   \n3     0015442.asm->0018435.asm->0018442.asm                                   FS-8100 Chassis Base Assembly   \n4     0015442.asm->0018435.asm->0018442.asm->0018441.prt                     FS-9100 base blate - btm plate   \n5     0015442.asm->0018435.asm->0018442.asm->0018541.prt                    FS-8100 Chassis base front edge   \n6     0015442.asm->0018435.asm->0018442.asm->0011799.prt  STUD, SC-FH, M6X1.0, 18MM LG, 1.6MM MIN THK, S...   \n7     0015442.asm->0018435.asm->0018442.asm->0014161.prt                      3 PROJECTION WELDNUT, 3/4\"-10   \n8     0015442.asm->0018435.asm->0018442.asm->0012468.prt                                              RIVET   \n9     0015442.asm->0018435.asm->0018436.prt                              FS-8100 Chassis vert member SM-Box   \n10    0015442.asm->0018435.asm->0018437.prt                                                     0018437.prt   \n11    0015442.asm->0018435.asm->0018438.prt                                                     0018438.prt   \n12    0015442.asm->0018435.asm->0014175.prt                                   NUT, M6X1 SS, SERRATED-FLANGE   \n\n                                                                                     D_TITLE  \\\nOrder Node ID                                                                                  \n0     ->0015442.asm                                                     SHIPPING CONFIG, GS2   \n1     0015442.asm->0019043.prt                                      FS-8100 ID SURFACE MODEL   \n2     0015442.asm->0018435.asm                               FS-8100 Chassis assembly - full   \n3     0015442.asm->0018435.asm->0018442.asm                    FS-8100 Chassis Base Assembly   \n4     0015442.asm->0018435.asm->0018442.asm->0018441.prt      FS-9100 base blate - btm plate   \n5     0015442.asm->0018435.asm->0018442.asm->0018541.prt     FS-8100 Chassis base front edge   \n6     0015442.asm->0018435.asm->0018442.asm->0011799.prt   STUD,SELF-CLINCHING,THD,M6-18,FHS   \n7     0015442.asm->0018435.asm->0018442.asm->0014161.prt       3 PROJECTION WELDNUT, 3/4\"-10   \n8     0015442.asm->0018435.asm->0018442.asm->0012468.prt                               RIVET   \n9     0015442.asm->0018435.asm->0018436.prt               FS-8100 Chassis vert member SM-Box   \n10    0015442.asm->0018435.asm->0018437.prt                                      0018437.prt   \n11    0015442.asm->0018435.asm->0018438.prt                                      0018438.prt   \n12    0015442.asm->0018435.asm->0014175.prt                    NUT, M6X1 SS, SERRATED-FLANGE   \n\n                                                         D_TITLE2  \\\nOrder Node ID                                                       \n0     ->0015442.asm                                             -   \n1     0015442.asm->0019043.prt                                  -   \n2     0015442.asm->0018435.asm                                NaN   \n3     0015442.asm->0018435.asm->0018442.asm                   NaN   \n4     0015442.asm->0018435.asm->0018442.asm->0018441.prt      NaN   \n5     0015442.asm->0018435.asm->0018442.asm->0018541.prt      NaN   \n6     0015442.asm->0018435.asm->0018442.asm->0011799.prt      NaN   \n7     0015442.asm->0018435.asm->0018442.asm->0014161.prt      NaN   \n8     0015442.asm->0018435.asm->0018442.asm->0012468.prt      NaN   \n9     0015442.asm->0018435.asm->0018436.prt                   NaN   \n10    0015442.asm->0018435.asm->0018437.prt                   NaN   \n11    0015442.asm->0018435.asm->0018438.prt                   NaN   \n12    0015442.asm->0018435.asm->0014175.prt                   NaN   \n\n                                                                                D_DESCRIPTION  \\\nOrder Node ID                                                                                   \n0     ->0015442.asm                                                      SHIPPING CONFIG, GS2   \n1     0015442.asm->0019043.prt                                       FS-8100 ID SURFACE MODEL   \n2     0015442.asm->0018435.asm                               FS-8100 Chassis assembly - full    \n3     0015442.asm->0018435.asm->0018442.asm                    FS-8100 Chassis Base Assembly    \n4     0015442.asm->0018435.asm->0018442.asm->0018441.prt      FS-9100 base blate - btm plate    \n5     0015442.asm->0018435.asm->0018442.asm->0018541.prt     FS-8100 Chassis base front edge    \n6     0015442.asm->0018435.asm->0018442.asm->0011799.prt   STUD,SELF-CLINCHING,THD,M6-18,FHS    \n7     0015442.asm->0018435.asm->0018442.asm->0014161.prt       3 PROJECTION WELDNUT, 3/4\"-10    \n8     0015442.asm->0018435.asm->0018442.asm->0012468.prt                               RIVET    \n9     0015442.asm->0018435.asm->0018436.prt               FS-8100 Chassis vert member SM-Box    \n10    0015442.asm->0018435.asm->0018437.prt                                      0018437.prt    \n11    0015442.asm->0018435.asm->0018438.prt                                      0018438.prt    \n12    0015442.asm->0018435.asm->0014175.prt                    NUT, M6X1 SS, SERRATED-FLANGE    \n\n                                                          Quantity  Version  \\\nOrder Node ID                                                                 \n0     ->0015442.asm                                            NaN  0-00.50   \n1     0015442.asm->0019043.prt                                 1.0  0-00.37   \n2     0015442.asm->0018435.asm                                 1.0  0-00.24   \n3     0015442.asm->0018435.asm->0018442.asm                    1.0   0-00.6   \n4     0015442.asm->0018435.asm->0018442.asm->0018441.prt       1.0   0-00.7   \n5     0015442.asm->0018435.asm->0018442.asm->0018541.prt       1.0   0-00.1   \n6     0015442.asm->0018435.asm->0018442.asm->0011799.prt      12.0   0-00.4   \n7     0015442.asm->0018435.asm->0018442.asm->0014161.prt       4.0   0-00.1   \n8     0015442.asm->0018435.asm->0018442.asm->0012468.prt       4.0   0-00.2   \n9     0015442.asm->0018435.asm->0018436.prt                    4.0  0-00.15   \n10    0015442.asm->0018435.asm->0018437.prt                    1.0   0-00.9   \n11    0015442.asm->0018435.asm->0018438.prt                    1.0   0-00.7   \n12    0015442.asm->0018435.asm->0014175.prt                   12.0   0-00.0   \n\n                                                                    State  \\\nOrder Node ID                                                               \n0     ->0015442.asm                                            Processing   \n1     0015442.asm->0019043.prt                                 Processing   \n2     0015442.asm->0018435.asm                                 Processing   \n3     0015442.asm->0018435.asm->0018442.asm                    Processing   \n4     0015442.asm->0018435.asm->0018442.asm->0018441.prt       Processing   \n5     0015442.asm->0018435.asm->0018442.asm->0018541.prt       Processing   \n6     0015442.asm->0018435.asm->0018442.asm->0011799.prt  Alpha Prototype   \n7     0015442.asm->0018435.asm->0018442.asm->0014161.prt         Released   \n8     0015442.asm->0018435.asm->0018442.asm->0012468.prt         Released   \n9     0015442.asm->0018435.asm->0018436.prt                    Processing   \n10    0015442.asm->0018435.asm->0018437.prt                    Processing   \n11    0015442.asm->0018435.asm->0018438.prt                    Processing   \n12    0015442.asm->0018435.asm->0014175.prt                      Released   \n\n                                                          SupportColumn1  \\\nOrder Node ID                                                              \n0     ->0015442.asm                                                  NaN   \n1     0015442.asm->0019043.prt                                       NaN   \n2     0015442.asm->0018435.asm                                       NaN   \n3     0015442.asm->0018435.asm->0018442.asm                          NaN   \n4     0015442.asm->0018435.asm->0018442.asm->0018441.prt             NaN   \n5     0015442.asm->0018435.asm->0018442.asm->0018541.prt             NaN   \n6     0015442.asm->0018435.asm->0018442.asm->0011799.prt             NaN   \n7     0015442.asm->0018435.asm->0018442.asm->0014161.prt             NaN   \n8     0015442.asm->0018435.asm->0018442.asm->0012468.prt             NaN   \n9     0015442.asm->0018435.asm->0018436.prt                          NaN   \n10    0015442.asm->0018435.asm->0018437.prt                          NaN   \n11    0015442.asm->0018435.asm->0018438.prt                          NaN   \n12    0015442.asm->0018435.asm->0014175.prt                          NaN   \n\n                                                          SupportColumn2  \\\nOrder Node ID                                                              \n0     ->0015442.asm                                                  NaN   \n1     0015442.asm->0019043.prt                                       NaN   \n2     0015442.asm->0018435.asm                                       NaN   \n3     0015442.asm->0018435.asm->0018442.asm                          NaN   \n4     0015442.asm->0018435.asm->0018442.asm->0018441.prt             NaN   \n5     0015442.asm->0018435.asm->0018442.asm->0018541.prt             NaN   \n6     0015442.asm->0018435.asm->0018442.asm->0011799.prt             NaN   \n7     0015442.asm->0018435.asm->0018442.asm->0014161.prt             NaN   \n8     0015442.asm->0018435.asm->0018442.asm->0012468.prt             NaN   \n9     0015442.asm->0018435.asm->0018436.prt                          NaN   \n10    0015442.asm->0018435.asm->0018437.prt                          NaN   \n11    0015442.asm->0018435.asm->0018438.prt                          NaN   \n12    0015442.asm->0018435.asm->0014175.prt                          NaN   \n\n                                                          SupportColumn3  \\\nOrder Node ID                                                              \n0     ->0015442.asm                                                  NaN   \n1     0015442.asm->0019043.prt                                       NaN   \n2     0015442.asm->0018435.asm                                       NaN   \n3     0015442.asm->0018435.asm->0018442.asm                          NaN   \n4     0015442.asm->0018435.asm->0018442.asm->0018441.prt             NaN   \n5     0015442.asm->0018435.asm->0018442.asm->0018541.prt             NaN   \n6     0015442.asm->0018435.asm->0018442.asm->0011799.prt             NaN   \n7     0015442.asm->0018435.asm->0018442.asm->0014161.prt             NaN   \n8     0015442.asm->0018435.asm->0018442.asm->0012468.prt             NaN   \n9     0015442.asm->0018435.asm->0018436.prt                          NaN   \n10    0015442.asm->0018435.asm->0018437.prt                          NaN   \n11    0015442.asm->0018435.asm->0018438.prt                          NaN   \n12    0015442.asm->0018435.asm->0014175.prt                          NaN   \n\n                                                          SupportColumn4  \\\nOrder Node ID                                                              \n0     ->0015442.asm                                                  NaN   \n1     0015442.asm->0019043.prt                                       NaN   \n2     0015442.asm->0018435.asm                                       NaN   \n3     0015442.asm->0018435.asm->0018442.asm                          NaN   \n4     0015442.asm->0018435.asm->0018442.asm->0018441.prt             NaN   \n5     0015442.asm->0018435.asm->0018442.asm->0018541.prt             NaN   \n6     0015442.asm->0018435.asm->0018442.asm->0011799.prt             NaN   \n7     0015442.asm->0018435.asm->0018442.asm->0014161.prt             NaN   \n8     0015442.asm->0018435.asm->0018442.asm->0012468.prt             NaN   \n9     0015442.asm->0018435.asm->0018436.prt                          NaN   \n10    0015442.asm->0018435.asm->0018437.prt                          NaN   \n11    0015442.asm->0018435.asm->0018438.prt                          NaN   \n12    0015442.asm->0018435.asm->0014175.prt                          NaN   \n\n                                                          SupportColumn5  \\\nOrder Node ID                                                              \n0     ->0015442.asm                                                  NaN   \n1     0015442.asm->0019043.prt                                       NaN   \n2     0015442.asm->0018435.asm                                       NaN   \n3     0015442.asm->0018435.asm->0018442.asm                          NaN   \n4     0015442.asm->0018435.asm->0018442.asm->0018441.prt             NaN   \n5     0015442.asm->0018435.asm->0018442.asm->0018541.prt             NaN   \n6     0015442.asm->0018435.asm->0018442.asm->0011799.prt             NaN   \n7     0015442.asm->0018435.asm->0018442.asm->0014161.prt             NaN   \n8     0015442.asm->0018435.asm->0018442.asm->0012468.prt             NaN   \n9     0015442.asm->0018435.asm->0018436.prt                          NaN   \n10    0015442.asm->0018435.asm->0018437.prt                          NaN   \n11    0015442.asm->0018435.asm->0018438.prt                          NaN   \n12    0015442.asm->0018435.asm->0014175.prt                          NaN   \n\n                                                          SupportColumn6  \nOrder Node ID                                                             \n0     ->0015442.asm                                                  NaN  \n1     0015442.asm->0019043.prt                                       NaN  \n2     0015442.asm->0018435.asm                                       NaN  \n3     0015442.asm->0018435.asm->0018442.asm                          NaN  \n4     0015442.asm->0018435.asm->0018442.asm->0018441.prt             NaN  \n5     0015442.asm->0018435.asm->0018442.asm->0018541.prt             NaN  \n6     0015442.asm->0018435.asm->0018442.asm->0011799.prt             NaN  \n7     0015442.asm->0018435.asm->0018442.asm->0014161.prt             NaN  \n8     0015442.asm->0018435.asm->0018442.asm->0012468.prt             NaN  \n9     0015442.asm->0018435.asm->0018436.prt                          NaN  \n10    0015442.asm->0018435.asm->0018437.prt                          NaN  \n11    0015442.asm->0018435.asm->0018438.prt                          NaN  \n12    0015442.asm->0018435.asm->0014175.prt                          NaN  ",
      "text/html": "<div>\n<style scoped>\n    .dataframe tbody tr th:only-of-type {\n        vertical-align: middle;\n    }\n\n    .dataframe tbody tr th {\n        vertical-align: top;\n    }\n\n    .dataframe thead th {\n        text-align: right;\n    }\n</style>\n<table border=\"1\" class=\"dataframe\">\n  <thead>\n    <tr style=\"text-align: right;\">\n      <th></th>\n      <th></th>\n      <th>Level</th>\n      <th>File Name</th>\n      <th>Name</th>\n      <th>D_TITLE</th>\n      <th>D_TITLE2</th>\n      <th>D_DESCRIPTION</th>\n      <th>Quantity</th>\n      <th>Version</th>\n      <th>State</th>\n      <th>SupportColumn1</th>\n      <th>SupportColumn2</th>\n      <th>SupportColumn3</th>\n      <th>SupportColumn4</th>\n      <th>SupportColumn5</th>\n      <th>SupportColumn6</th>\n    </tr>\n    <tr>\n      <th>Order</th>\n      <th>Node ID</th>\n      <th></th>\n      <th></th>\n      <th></th>\n      <th></th>\n      <th></th>\n      <th></th>\n      <th></th>\n      <th></th>\n      <th></th>\n      <th></th>\n      <th></th>\n      <th></th>\n      <th></th>\n      <th></th>\n      <th></th>\n    </tr>\n  </thead>\n  <tbody>\n    <tr>\n      <th>0</th>\n      <th>-&gt;0015442.asm</th>\n      <td>0</td>\n      <td>0015442.asm</td>\n      <td>0015442.asm</td>\n      <td>SHIPPING CONFIG, GS2</td>\n      <td>-</td>\n      <td>SHIPPING CONFIG, GS2</td>\n      <td>NaN</td>\n      <td>0-00.50</td>\n      <td>Processing</td>\n      <td>NaN</td>\n      <td>NaN</td>\n      <td>NaN</td>\n      <td>NaN</td>\n      <td>NaN</td>\n      <td>NaN</td>\n    </tr>\n    <tr>\n      <th>1</th>\n      <th>0015442.asm-&gt;0019043.prt</th>\n      <td>1</td>\n      <td>0019043.prt</td>\n      <td>FS-8100 ID SURFACE MODEL</td>\n      <td>FS-8100 ID SURFACE MODEL</td>\n      <td>-</td>\n      <td>FS-8100 ID SURFACE MODEL</td>\n      <td>1.0</td>\n      <td>0-00.37</td>\n      <td>Processing</td>\n      <td>NaN</td>\n      <td>NaN</td>\n      <td>NaN</td>\n      <td>NaN</td>\n      <td>NaN</td>\n      <td>NaN</td>\n    </tr>\n    <tr>\n      <th>2</th>\n      <th>0015442.asm-&gt;0018435.asm</th>\n      <td>1</td>\n      <td>0018435.asm</td>\n      <td>FS-8100 Chassis assembly - full</td>\n      <td>FS-8100 Chassis assembly - full</td>\n      <td>NaN</td>\n      <td>FS-8100 Chassis assembly - full</td>\n      <td>1.0</td>\n      <td>0-00.24</td>\n      <td>Processing</td>\n      <td>NaN</td>\n      <td>NaN</td>\n      <td>NaN</td>\n      <td>NaN</td>\n      <td>NaN</td>\n      <td>NaN</td>\n    </tr>\n    <tr>\n      <th>3</th>\n      <th>0015442.asm-&gt;0018435.asm-&gt;0018442.asm</th>\n      <td>2</td>\n      <td>0018442.asm</td>\n      <td>FS-8100 Chassis Base Assembly</td>\n      <td>FS-8100 Chassis Base Assembly</td>\n      <td>NaN</td>\n      <td>FS-8100 Chassis Base Assembly</td>\n      <td>1.0</td>\n      <td>0-00.6</td>\n      <td>Processing</td>\n      <td>NaN</td>\n      <td>NaN</td>\n      <td>NaN</td>\n      <td>NaN</td>\n      <td>NaN</td>\n      <td>NaN</td>\n    </tr>\n    <tr>\n      <th>4</th>\n      <th>0015442.asm-&gt;0018435.asm-&gt;0018442.asm-&gt;0018441.prt</th>\n      <td>3</td>\n      <td>0018441.prt</td>\n      <td>FS-9100 base blate - btm plate</td>\n      <td>FS-9100 base blate - btm plate</td>\n      <td>NaN</td>\n      <td>FS-9100 base blate - btm plate</td>\n      <td>1.0</td>\n      <td>0-00.7</td>\n      <td>Processing</td>\n      <td>NaN</td>\n      <td>NaN</td>\n      <td>NaN</td>\n      <td>NaN</td>\n      <td>NaN</td>\n      <td>NaN</td>\n    </tr>\n    <tr>\n      <th>5</th>\n      <th>0015442.asm-&gt;0018435.asm-&gt;0018442.asm-&gt;0018541.prt</th>\n      <td>3</td>\n      <td>0018541.prt</td>\n      <td>FS-8100 Chassis base front edge</td>\n      <td>FS-8100 Chassis base front edge</td>\n      <td>NaN</td>\n      <td>FS-8100 Chassis base front edge</td>\n      <td>1.0</td>\n      <td>0-00.1</td>\n      <td>Processing</td>\n      <td>NaN</td>\n      <td>NaN</td>\n      <td>NaN</td>\n      <td>NaN</td>\n      <td>NaN</td>\n      <td>NaN</td>\n    </tr>\n    <tr>\n      <th>6</th>\n      <th>0015442.asm-&gt;0018435.asm-&gt;0018442.asm-&gt;0011799.prt</th>\n      <td>3</td>\n      <td>0011799.prt</td>\n      <td>STUD, SC-FH, M6X1.0, 18MM LG, 1.6MM MIN THK, S...</td>\n      <td>STUD,SELF-CLINCHING,THD,M6-18,FHS</td>\n      <td>NaN</td>\n      <td>STUD,SELF-CLINCHING,THD,M6-18,FHS</td>\n      <td>12.0</td>\n      <td>0-00.4</td>\n      <td>Alpha Prototype</td>\n      <td>NaN</td>\n      <td>NaN</td>\n      <td>NaN</td>\n      <td>NaN</td>\n      <td>NaN</td>\n      <td>NaN</td>\n    </tr>\n    <tr>\n      <th>7</th>\n      <th>0015442.asm-&gt;0018435.asm-&gt;0018442.asm-&gt;0014161.prt</th>\n      <td>3</td>\n      <td>0014161.prt</td>\n      <td>3 PROJECTION WELDNUT, 3/4\"-10</td>\n      <td>3 PROJECTION WELDNUT, 3/4\"-10</td>\n      <td>NaN</td>\n      <td>3 PROJECTION WELDNUT, 3/4\"-10</td>\n      <td>4.0</td>\n      <td>0-00.1</td>\n      <td>Released</td>\n      <td>NaN</td>\n      <td>NaN</td>\n      <td>NaN</td>\n      <td>NaN</td>\n      <td>NaN</td>\n      <td>NaN</td>\n    </tr>\n    <tr>\n      <th>8</th>\n      <th>0015442.asm-&gt;0018435.asm-&gt;0018442.asm-&gt;0012468.prt</th>\n      <td>3</td>\n      <td>0012468.prt</td>\n      <td>RIVET</td>\n      <td>RIVET</td>\n      <td>NaN</td>\n      <td>RIVET</td>\n      <td>4.0</td>\n      <td>0-00.2</td>\n      <td>Released</td>\n      <td>NaN</td>\n      <td>NaN</td>\n      <td>NaN</td>\n      <td>NaN</td>\n      <td>NaN</td>\n      <td>NaN</td>\n    </tr>\n    <tr>\n      <th>9</th>\n      <th>0015442.asm-&gt;0018435.asm-&gt;0018436.prt</th>\n      <td>2</td>\n      <td>0018436.prt</td>\n      <td>FS-8100 Chassis vert member SM-Box</td>\n      <td>FS-8100 Chassis vert member SM-Box</td>\n      <td>NaN</td>\n      <td>FS-8100 Chassis vert member SM-Box</td>\n      <td>4.0</td>\n      <td>0-00.15</td>\n      <td>Processing</td>\n      <td>NaN</td>\n      <td>NaN</td>\n      <td>NaN</td>\n      <td>NaN</td>\n      <td>NaN</td>\n      <td>NaN</td>\n    </tr>\n    <tr>\n      <th>10</th>\n      <th>0015442.asm-&gt;0018435.asm-&gt;0018437.prt</th>\n      <td>2</td>\n      <td>0018437.prt</td>\n      <td>0018437.prt</td>\n      <td>0018437.prt</td>\n      <td>NaN</td>\n      <td>0018437.prt</td>\n      <td>1.0</td>\n      <td>0-00.9</td>\n      <td>Processing</td>\n      <td>NaN</td>\n      <td>NaN</td>\n      <td>NaN</td>\n      <td>NaN</td>\n      <td>NaN</td>\n      <td>NaN</td>\n    </tr>\n    <tr>\n      <th>11</th>\n      <th>0015442.asm-&gt;0018435.asm-&gt;0018438.prt</th>\n      <td>2</td>\n      <td>0018438.prt</td>\n      <td>0018438.prt</td>\n      <td>0018438.prt</td>\n      <td>NaN</td>\n      <td>0018438.prt</td>\n      <td>1.0</td>\n      <td>0-00.7</td>\n      <td>Processing</td>\n      <td>NaN</td>\n      <td>NaN</td>\n      <td>NaN</td>\n      <td>NaN</td>\n      <td>NaN</td>\n      <td>NaN</td>\n    </tr>\n    <tr>\n      <th>12</th>\n      <th>0015442.asm-&gt;0018435.asm-&gt;0014175.prt</th>\n      <td>2</td>\n      <td>0014175.prt</td>\n      <td>NUT, M6X1 SS, SERRATED-FLANGE</td>\n      <td>NUT, M6X1 SS, SERRATED-FLANGE</td>\n      <td>NaN</td>\n      <td>NUT, M6X1 SS, SERRATED-FLANGE</td>\n      <td>12.0</td>\n      <td>0-00.0</td>\n      <td>Released</td>\n      <td>NaN</td>\n      <td>NaN</td>\n      <td>NaN</td>\n      <td>NaN</td>\n      <td>NaN</td>\n      <td>NaN</td>\n    </tr>\n  </tbody>\n</table>\n</div>"
     },
     "metadata": {},
     "execution_count": 28
    }
   ],
   "source": [
    "master_bom_df"
   ]
  },
  {
   "cell_type": "code",
   "execution_count": 30,
   "metadata": {},
   "outputs": [
    {
     "output_type": "execute_result",
     "data": {
      "text/plain": "                                                          Level  \\\nOrder Node ID                                                     \n0     ->0015442.asm                                           0   \n1     0015442.asm->0019043.prt                                1   \n2     0015442.asm->0018435.asm                                1   \n3     0015442.asm->0018435.asm->0018442.asm                   2   \n4     0015442.asm->0018435.asm->0018442.asm->0018441.prt      3   \n5     0015442.asm->0018435.asm->0018442.asm->0011799.prt      3   \n6     0015442.asm->0018435.asm->0018442.asm->0014161.prt      3   \n7     0015442.asm->0018435.asm->0018442.asm->0012468.prt      3   \n8     0015442.asm->0018435.asm->0018436.prt                   2   \n9     0015442.asm->0018435.asm->0018437.prt                   2   \n10    0015442.asm->0018435.asm->0014175.prt                   2   \n11    0015442.asm->0018435.asm->0018438.prt                   2   \n12    0015442.asm->0018435.asm->0019012.asm                   2   \n13    0015442.asm->0018435.asm->0019012.asm->0018439_...      3   \n14    0015442.asm->0018435.asm->0019012.asm->0019011.prt      3   \n15    0015442.asm->0018435.asm->0019012.asm->0007471.prt      3   \n16    0015442.asm->0018435.asm->0019012.asm->0012468.prt      3   \n17    0015442.asm->0012397.asm                                1   \n18    0015442.asm->0012397.asm->0012398.prt                   2   \n\n                                                                                   File Name  \\\nOrder Node ID                                                                                  \n0     ->0015442.asm                                                              0015442.asm   \n1     0015442.asm->0019043.prt                                                   0019043.prt   \n2     0015442.asm->0018435.asm                                                   0018435.asm   \n3     0015442.asm->0018435.asm->0018442.asm                                      0018442.asm   \n4     0015442.asm->0018435.asm->0018442.asm->0018441.prt                         0018441.prt   \n5     0015442.asm->0018435.asm->0018442.asm->0011799.prt                         0011799.prt   \n6     0015442.asm->0018435.asm->0018442.asm->0014161.prt                         0014161.prt   \n7     0015442.asm->0018435.asm->0018442.asm->0012468.prt                         0012468.prt   \n8     0015442.asm->0018435.asm->0018436.prt                                      0018436.prt   \n9     0015442.asm->0018435.asm->0018437.prt                                      0018437.prt   \n10    0015442.asm->0018435.asm->0014175.prt                                      0014175.prt   \n11    0015442.asm->0018435.asm->0018438.prt                                      0018438.prt   \n12    0015442.asm->0018435.asm->0019012.asm                                      0019012.asm   \n13    0015442.asm->0018435.asm->0019012.asm->0018439_...              0018439_revised_02.prt   \n14    0015442.asm->0018435.asm->0019012.asm->0019011.prt                         0019011.prt   \n15    0015442.asm->0018435.asm->0019012.asm->0007471.prt                         0007471.prt   \n16    0015442.asm->0018435.asm->0019012.asm->0012468.prt                         0012468.prt   \n17    0015442.asm->0012397.asm                                                   0012397.asm   \n18    0015442.asm->0012397.asm->0012398.prt                                      0012398.prt   \n\n                                                                                                       Name  \\\nOrder Node ID                                                                                                 \n0     ->0015442.asm                                                                             0015442.asm   \n1     0015442.asm->0019043.prt                                                     FS-8100 ID SURFACE MODEL   \n2     0015442.asm->0018435.asm                                              FS-8100 Chassis assembly - full   \n3     0015442.asm->0018435.asm->0018442.asm                                   FS-8100 Chassis Base Assembly   \n4     0015442.asm->0018435.asm->0018442.asm->0018441.prt                     FS-9100 base blate - btm plate   \n5     0015442.asm->0018435.asm->0018442.asm->0011799.prt  STUD, SC-FH, M6X1.0, 18MM LG, 1.6MM MIN THK, S...   \n6     0015442.asm->0018435.asm->0018442.asm->0014161.prt                      3 PROJECTION WELDNUT, 3/4\"-10   \n7     0015442.asm->0018435.asm->0018442.asm->0012468.prt                                              RIVET   \n8     0015442.asm->0018435.asm->0018436.prt                              FS-8100 Chassis vert member SM-Box   \n9     0015442.asm->0018435.asm->0018437.prt                                                     0018437.prt   \n10    0015442.asm->0018435.asm->0014175.prt                                   NUT, M6X1 SS, SERRATED-FLANGE   \n11    0015442.asm->0018435.asm->0018438.prt                                                     0018438.prt   \n12    0015442.asm->0018435.asm->0019012.asm                                    HAT, ICE BIN DRAIN TUBE ASSY   \n13    0015442.asm->0018435.asm->0019012.asm->0018439_...                             0018439_revised_02.prt   \n14    0015442.asm->0018435.asm->0019012.asm->0019011.prt                            HAT, ICE BIN DRAIN TUBE   \n15    0015442.asm->0018435.asm->0019012.asm->0007471.prt  RIVET, BD, 0.125\" DIA, 0.063\"-0.125\" RNG, 420L...   \n16    0015442.asm->0018435.asm->0019012.asm->0012468.prt                                              RIVET   \n17    0015442.asm->0012397.asm                                                               ASSM, 9100 LEG   \n18    0015442.asm->0012397.asm->0012398.prt                                                     0012398.prt   \n\n                                                                                              D_TITLE  \\\nOrder Node ID                                                                                           \n0     ->0015442.asm                                                              SHIPPING CONFIG, GS2   \n1     0015442.asm->0019043.prt                                               FS-8100 ID SURFACE MODEL   \n2     0015442.asm->0018435.asm                                        FS-8100 Chassis assembly - full   \n3     0015442.asm->0018435.asm->0018442.asm                             FS-8100 Chassis Base Assembly   \n4     0015442.asm->0018435.asm->0018442.asm->0018441.prt               FS-9100 base blate - btm plate   \n5     0015442.asm->0018435.asm->0018442.asm->0011799.prt            STUD,SELF-CLINCHING,THD,M6-18,FHS   \n6     0015442.asm->0018435.asm->0018442.asm->0014161.prt                3 PROJECTION WELDNUT, 3/4\"-10   \n7     0015442.asm->0018435.asm->0018442.asm->0012468.prt                                        RIVET   \n8     0015442.asm->0018435.asm->0018436.prt                        FS-8100 Chassis vert member SM-Box   \n9     0015442.asm->0018435.asm->0018437.prt                                               0018437.prt   \n10    0015442.asm->0018435.asm->0014175.prt                             NUT, M6X1 SS, SERRATED-FLANGE   \n11    0015442.asm->0018435.asm->0018438.prt                                               0018438.prt   \n12    0015442.asm->0018435.asm->0019012.asm                              HAT, ICE BIN DRAIN TUBE ASSY   \n13    0015442.asm->0018435.asm->0019012.asm->0018439_...                       0018439_revised_02.prt   \n14    0015442.asm->0018435.asm->0019012.asm->0019011.prt                      HAT, ICE BIN DRAIN TUBE   \n15    0015442.asm->0018435.asm->0019012.asm->0007471.prt  RIVET, BLIND .125 DIA X .125, SS, DOME HEAD   \n16    0015442.asm->0018435.asm->0019012.asm->0012468.prt                                        RIVET   \n17    0015442.asm->0012397.asm                                                            0012397.asm   \n18    0015442.asm->0012397.asm->0012398.prt                                               0012398.prt   \n\n                                                         D_TITLE2  \\\nOrder Node ID                                                       \n0     ->0015442.asm                                             -   \n1     0015442.asm->0019043.prt                                  -   \n2     0015442.asm->0018435.asm                                NaN   \n3     0015442.asm->0018435.asm->0018442.asm                   NaN   \n4     0015442.asm->0018435.asm->0018442.asm->0018441.prt      NaN   \n5     0015442.asm->0018435.asm->0018442.asm->0011799.prt      NaN   \n6     0015442.asm->0018435.asm->0018442.asm->0014161.prt      NaN   \n7     0015442.asm->0018435.asm->0018442.asm->0012468.prt      NaN   \n8     0015442.asm->0018435.asm->0018436.prt                   NaN   \n9     0015442.asm->0018435.asm->0018437.prt                   NaN   \n10    0015442.asm->0018435.asm->0014175.prt                   NaN   \n11    0015442.asm->0018435.asm->0018438.prt                   NaN   \n12    0015442.asm->0018435.asm->0019012.asm                   NaN   \n13    0015442.asm->0018435.asm->0019012.asm->0018439_...      NaN   \n14    0015442.asm->0018435.asm->0019012.asm->0019011.prt      NaN   \n15    0015442.asm->0018435.asm->0019012.asm->0007471.prt      NaN   \n16    0015442.asm->0018435.asm->0019012.asm->0012468.prt      NaN   \n17    0015442.asm->0012397.asm                                NaN   \n18    0015442.asm->0012397.asm->0012398.prt                   NaN   \n\n                                                                                         D_DESCRIPTION  \\\nOrder Node ID                                                                                            \n0     ->0015442.asm                                                               SHIPPING CONFIG, GS2   \n1     0015442.asm->0019043.prt                                                FS-8100 ID SURFACE MODEL   \n2     0015442.asm->0018435.asm                                        FS-8100 Chassis assembly - full    \n3     0015442.asm->0018435.asm->0018442.asm                             FS-8100 Chassis Base Assembly    \n4     0015442.asm->0018435.asm->0018442.asm->0018441.prt               FS-9100 base blate - btm plate    \n5     0015442.asm->0018435.asm->0018442.asm->0011799.prt            STUD,SELF-CLINCHING,THD,M6-18,FHS    \n6     0015442.asm->0018435.asm->0018442.asm->0014161.prt                3 PROJECTION WELDNUT, 3/4\"-10    \n7     0015442.asm->0018435.asm->0018442.asm->0012468.prt                                        RIVET    \n8     0015442.asm->0018435.asm->0018436.prt                        FS-8100 Chassis vert member SM-Box    \n9     0015442.asm->0018435.asm->0018437.prt                                               0018437.prt    \n10    0015442.asm->0018435.asm->0014175.prt                             NUT, M6X1 SS, SERRATED-FLANGE    \n11    0015442.asm->0018435.asm->0018438.prt                                               0018438.prt    \n12    0015442.asm->0018435.asm->0019012.asm                              HAT, ICE BIN DRAIN TUBE ASSY    \n13    0015442.asm->0018435.asm->0019012.asm->0018439_...                       0018439_revised_02.prt    \n14    0015442.asm->0018435.asm->0019012.asm->0019011.prt                      HAT, ICE BIN DRAIN TUBE    \n15    0015442.asm->0018435.asm->0019012.asm->0007471.prt  RIVET, BLIND .125 DIA X .125, SS, DOME HEAD    \n16    0015442.asm->0018435.asm->0019012.asm->0012468.prt                                        RIVET    \n17    0015442.asm->0012397.asm                                                            0012397.asm    \n18    0015442.asm->0012397.asm->0012398.prt                                               0012398.prt    \n\n                                                          Quantity  Version  \\\nOrder Node ID                                                                 \n0     ->0015442.asm                                            NaN  0-00.50   \n1     0015442.asm->0019043.prt                                 1.0  0-00.37   \n2     0015442.asm->0018435.asm                                 1.0  0-00.24   \n3     0015442.asm->0018435.asm->0018442.asm                    1.0   0-00.6   \n4     0015442.asm->0018435.asm->0018442.asm->0018441.prt       1.0   0-00.7   \n5     0015442.asm->0018435.asm->0018442.asm->0011799.prt      12.0   0-00.4   \n6     0015442.asm->0018435.asm->0018442.asm->0014161.prt       4.0   0-00.1   \n7     0015442.asm->0018435.asm->0018442.asm->0012468.prt       4.0   0-00.2   \n8     0015442.asm->0018435.asm->0018436.prt                    4.0  0-00.15   \n9     0015442.asm->0018435.asm->0018437.prt                    1.0   0-00.9   \n10    0015442.asm->0018435.asm->0014175.prt                   12.0   0-00.1   \n11    0015442.asm->0018435.asm->0018438.prt                    1.0   0-00.7   \n12    0015442.asm->0018435.asm->0019012.asm                    1.0   0-00.1   \n13    0015442.asm->0018435.asm->0019012.asm->0018439_...       1.0   0-00.1   \n14    0015442.asm->0018435.asm->0019012.asm->0019011.prt       1.0   0-00.1   \n15    0015442.asm->0018435.asm->0019012.asm->0007471.prt       8.0   0-00.0   \n16    0015442.asm->0018435.asm->0019012.asm->0012468.prt       4.0   0-00.2   \n17    0015442.asm->0012397.asm                                 2.0   0-02.0   \n18    0015442.asm->0012397.asm->0012398.prt                    2.0   0-02.0   \n\n                                                                    State  \\\nOrder Node ID                                                               \n0     ->0015442.asm                                            Processing   \n1     0015442.asm->0019043.prt                                 Processing   \n2     0015442.asm->0018435.asm                                 Processing   \n3     0015442.asm->0018435.asm->0018442.asm                    Processing   \n4     0015442.asm->0018435.asm->0018442.asm->0018441.prt       Processing   \n5     0015442.asm->0018435.asm->0018442.asm->0011799.prt  Alpha Prototype   \n6     0015442.asm->0018435.asm->0018442.asm->0014161.prt         Released   \n7     0015442.asm->0018435.asm->0018442.asm->0012468.prt         Released   \n8     0015442.asm->0018435.asm->0018436.prt                    Processing   \n9     0015442.asm->0018435.asm->0018437.prt                    Processing   \n10    0015442.asm->0018435.asm->0014175.prt                      Released   \n11    0015442.asm->0018435.asm->0018438.prt                    Processing   \n12    0015442.asm->0018435.asm->0019012.asm                    Processing   \n13    0015442.asm->0018435.asm->0019012.asm->0018439_...       Processing   \n14    0015442.asm->0018435.asm->0019012.asm->0019011.prt       Processing   \n15    0015442.asm->0018435.asm->0019012.asm->0007471.prt         Released   \n16    0015442.asm->0018435.asm->0019012.asm->0012468.prt         Released   \n17    0015442.asm->0012397.asm                                   Released   \n18    0015442.asm->0012397.asm->0012398.prt                      Released   \n\n                                                          AddedColumn1  \nOrder Node ID                                                           \n0     ->0015442.asm                                                NaN  \n1     0015442.asm->0019043.prt                                     NaN  \n2     0015442.asm->0018435.asm                                     NaN  \n3     0015442.asm->0018435.asm->0018442.asm                        NaN  \n4     0015442.asm->0018435.asm->0018442.asm->0018441.prt           NaN  \n5     0015442.asm->0018435.asm->0018442.asm->0011799.prt           NaN  \n6     0015442.asm->0018435.asm->0018442.asm->0014161.prt           NaN  \n7     0015442.asm->0018435.asm->0018442.asm->0012468.prt           NaN  \n8     0015442.asm->0018435.asm->0018436.prt                        NaN  \n9     0015442.asm->0018435.asm->0018437.prt                        NaN  \n10    0015442.asm->0018435.asm->0014175.prt                        NaN  \n11    0015442.asm->0018435.asm->0018438.prt                        NaN  \n12    0015442.asm->0018435.asm->0019012.asm                        NaN  \n13    0015442.asm->0018435.asm->0019012.asm->0018439_...           NaN  \n14    0015442.asm->0018435.asm->0019012.asm->0019011.prt           NaN  \n15    0015442.asm->0018435.asm->0019012.asm->0007471.prt           NaN  \n16    0015442.asm->0018435.asm->0019012.asm->0012468.prt           NaN  \n17    0015442.asm->0012397.asm                                     NaN  \n18    0015442.asm->0012397.asm->0012398.prt                        NaN  ",
      "text/html": "<div>\n<style scoped>\n    .dataframe tbody tr th:only-of-type {\n        vertical-align: middle;\n    }\n\n    .dataframe tbody tr th {\n        vertical-align: top;\n    }\n\n    .dataframe thead th {\n        text-align: right;\n    }\n</style>\n<table border=\"1\" class=\"dataframe\">\n  <thead>\n    <tr style=\"text-align: right;\">\n      <th></th>\n      <th></th>\n      <th>Level</th>\n      <th>File Name</th>\n      <th>Name</th>\n      <th>D_TITLE</th>\n      <th>D_TITLE2</th>\n      <th>D_DESCRIPTION</th>\n      <th>Quantity</th>\n      <th>Version</th>\n      <th>State</th>\n      <th>AddedColumn1</th>\n    </tr>\n    <tr>\n      <th>Order</th>\n      <th>Node ID</th>\n      <th></th>\n      <th></th>\n      <th></th>\n      <th></th>\n      <th></th>\n      <th></th>\n      <th></th>\n      <th></th>\n      <th></th>\n      <th></th>\n    </tr>\n  </thead>\n  <tbody>\n    <tr>\n      <th>0</th>\n      <th>-&gt;0015442.asm</th>\n      <td>0</td>\n      <td>0015442.asm</td>\n      <td>0015442.asm</td>\n      <td>SHIPPING CONFIG, GS2</td>\n      <td>-</td>\n      <td>SHIPPING CONFIG, GS2</td>\n      <td>NaN</td>\n      <td>0-00.50</td>\n      <td>Processing</td>\n      <td>NaN</td>\n    </tr>\n    <tr>\n      <th>1</th>\n      <th>0015442.asm-&gt;0019043.prt</th>\n      <td>1</td>\n      <td>0019043.prt</td>\n      <td>FS-8100 ID SURFACE MODEL</td>\n      <td>FS-8100 ID SURFACE MODEL</td>\n      <td>-</td>\n      <td>FS-8100 ID SURFACE MODEL</td>\n      <td>1.0</td>\n      <td>0-00.37</td>\n      <td>Processing</td>\n      <td>NaN</td>\n    </tr>\n    <tr>\n      <th>2</th>\n      <th>0015442.asm-&gt;0018435.asm</th>\n      <td>1</td>\n      <td>0018435.asm</td>\n      <td>FS-8100 Chassis assembly - full</td>\n      <td>FS-8100 Chassis assembly - full</td>\n      <td>NaN</td>\n      <td>FS-8100 Chassis assembly - full</td>\n      <td>1.0</td>\n      <td>0-00.24</td>\n      <td>Processing</td>\n      <td>NaN</td>\n    </tr>\n    <tr>\n      <th>3</th>\n      <th>0015442.asm-&gt;0018435.asm-&gt;0018442.asm</th>\n      <td>2</td>\n      <td>0018442.asm</td>\n      <td>FS-8100 Chassis Base Assembly</td>\n      <td>FS-8100 Chassis Base Assembly</td>\n      <td>NaN</td>\n      <td>FS-8100 Chassis Base Assembly</td>\n      <td>1.0</td>\n      <td>0-00.6</td>\n      <td>Processing</td>\n      <td>NaN</td>\n    </tr>\n    <tr>\n      <th>4</th>\n      <th>0015442.asm-&gt;0018435.asm-&gt;0018442.asm-&gt;0018441.prt</th>\n      <td>3</td>\n      <td>0018441.prt</td>\n      <td>FS-9100 base blate - btm plate</td>\n      <td>FS-9100 base blate - btm plate</td>\n      <td>NaN</td>\n      <td>FS-9100 base blate - btm plate</td>\n      <td>1.0</td>\n      <td>0-00.7</td>\n      <td>Processing</td>\n      <td>NaN</td>\n    </tr>\n    <tr>\n      <th>5</th>\n      <th>0015442.asm-&gt;0018435.asm-&gt;0018442.asm-&gt;0011799.prt</th>\n      <td>3</td>\n      <td>0011799.prt</td>\n      <td>STUD, SC-FH, M6X1.0, 18MM LG, 1.6MM MIN THK, S...</td>\n      <td>STUD,SELF-CLINCHING,THD,M6-18,FHS</td>\n      <td>NaN</td>\n      <td>STUD,SELF-CLINCHING,THD,M6-18,FHS</td>\n      <td>12.0</td>\n      <td>0-00.4</td>\n      <td>Alpha Prototype</td>\n      <td>NaN</td>\n    </tr>\n    <tr>\n      <th>6</th>\n      <th>0015442.asm-&gt;0018435.asm-&gt;0018442.asm-&gt;0014161.prt</th>\n      <td>3</td>\n      <td>0014161.prt</td>\n      <td>3 PROJECTION WELDNUT, 3/4\"-10</td>\n      <td>3 PROJECTION WELDNUT, 3/4\"-10</td>\n      <td>NaN</td>\n      <td>3 PROJECTION WELDNUT, 3/4\"-10</td>\n      <td>4.0</td>\n      <td>0-00.1</td>\n      <td>Released</td>\n      <td>NaN</td>\n    </tr>\n    <tr>\n      <th>7</th>\n      <th>0015442.asm-&gt;0018435.asm-&gt;0018442.asm-&gt;0012468.prt</th>\n      <td>3</td>\n      <td>0012468.prt</td>\n      <td>RIVET</td>\n      <td>RIVET</td>\n      <td>NaN</td>\n      <td>RIVET</td>\n      <td>4.0</td>\n      <td>0-00.2</td>\n      <td>Released</td>\n      <td>NaN</td>\n    </tr>\n    <tr>\n      <th>8</th>\n      <th>0015442.asm-&gt;0018435.asm-&gt;0018436.prt</th>\n      <td>2</td>\n      <td>0018436.prt</td>\n      <td>FS-8100 Chassis vert member SM-Box</td>\n      <td>FS-8100 Chassis vert member SM-Box</td>\n      <td>NaN</td>\n      <td>FS-8100 Chassis vert member SM-Box</td>\n      <td>4.0</td>\n      <td>0-00.15</td>\n      <td>Processing</td>\n      <td>NaN</td>\n    </tr>\n    <tr>\n      <th>9</th>\n      <th>0015442.asm-&gt;0018435.asm-&gt;0018437.prt</th>\n      <td>2</td>\n      <td>0018437.prt</td>\n      <td>0018437.prt</td>\n      <td>0018437.prt</td>\n      <td>NaN</td>\n      <td>0018437.prt</td>\n      <td>1.0</td>\n      <td>0-00.9</td>\n      <td>Processing</td>\n      <td>NaN</td>\n    </tr>\n    <tr>\n      <th>10</th>\n      <th>0015442.asm-&gt;0018435.asm-&gt;0014175.prt</th>\n      <td>2</td>\n      <td>0014175.prt</td>\n      <td>NUT, M6X1 SS, SERRATED-FLANGE</td>\n      <td>NUT, M6X1 SS, SERRATED-FLANGE</td>\n      <td>NaN</td>\n      <td>NUT, M6X1 SS, SERRATED-FLANGE</td>\n      <td>12.0</td>\n      <td>0-00.1</td>\n      <td>Released</td>\n      <td>NaN</td>\n    </tr>\n    <tr>\n      <th>11</th>\n      <th>0015442.asm-&gt;0018435.asm-&gt;0018438.prt</th>\n      <td>2</td>\n      <td>0018438.prt</td>\n      <td>0018438.prt</td>\n      <td>0018438.prt</td>\n      <td>NaN</td>\n      <td>0018438.prt</td>\n      <td>1.0</td>\n      <td>0-00.7</td>\n      <td>Processing</td>\n      <td>NaN</td>\n    </tr>\n    <tr>\n      <th>12</th>\n      <th>0015442.asm-&gt;0018435.asm-&gt;0019012.asm</th>\n      <td>2</td>\n      <td>0019012.asm</td>\n      <td>HAT, ICE BIN DRAIN TUBE ASSY</td>\n      <td>HAT, ICE BIN DRAIN TUBE ASSY</td>\n      <td>NaN</td>\n      <td>HAT, ICE BIN DRAIN TUBE ASSY</td>\n      <td>1.0</td>\n      <td>0-00.1</td>\n      <td>Processing</td>\n      <td>NaN</td>\n    </tr>\n    <tr>\n      <th>13</th>\n      <th>0015442.asm-&gt;0018435.asm-&gt;0019012.asm-&gt;0018439_revised_02.prt</th>\n      <td>3</td>\n      <td>0018439_revised_02.prt</td>\n      <td>0018439_revised_02.prt</td>\n      <td>0018439_revised_02.prt</td>\n      <td>NaN</td>\n      <td>0018439_revised_02.prt</td>\n      <td>1.0</td>\n      <td>0-00.1</td>\n      <td>Processing</td>\n      <td>NaN</td>\n    </tr>\n    <tr>\n      <th>14</th>\n      <th>0015442.asm-&gt;0018435.asm-&gt;0019012.asm-&gt;0019011.prt</th>\n      <td>3</td>\n      <td>0019011.prt</td>\n      <td>HAT, ICE BIN DRAIN TUBE</td>\n      <td>HAT, ICE BIN DRAIN TUBE</td>\n      <td>NaN</td>\n      <td>HAT, ICE BIN DRAIN TUBE</td>\n      <td>1.0</td>\n      <td>0-00.1</td>\n      <td>Processing</td>\n      <td>NaN</td>\n    </tr>\n    <tr>\n      <th>15</th>\n      <th>0015442.asm-&gt;0018435.asm-&gt;0019012.asm-&gt;0007471.prt</th>\n      <td>3</td>\n      <td>0007471.prt</td>\n      <td>RIVET, BD, 0.125\" DIA, 0.063\"-0.125\" RNG, 420L...</td>\n      <td>RIVET, BLIND .125 DIA X .125, SS, DOME HEAD</td>\n      <td>NaN</td>\n      <td>RIVET, BLIND .125 DIA X .125, SS, DOME HEAD</td>\n      <td>8.0</td>\n      <td>0-00.0</td>\n      <td>Released</td>\n      <td>NaN</td>\n    </tr>\n    <tr>\n      <th>16</th>\n      <th>0015442.asm-&gt;0018435.asm-&gt;0019012.asm-&gt;0012468.prt</th>\n      <td>3</td>\n      <td>0012468.prt</td>\n      <td>RIVET</td>\n      <td>RIVET</td>\n      <td>NaN</td>\n      <td>RIVET</td>\n      <td>4.0</td>\n      <td>0-00.2</td>\n      <td>Released</td>\n      <td>NaN</td>\n    </tr>\n    <tr>\n      <th>17</th>\n      <th>0015442.asm-&gt;0012397.asm</th>\n      <td>1</td>\n      <td>0012397.asm</td>\n      <td>ASSM, 9100 LEG</td>\n      <td>0012397.asm</td>\n      <td>NaN</td>\n      <td>0012397.asm</td>\n      <td>2.0</td>\n      <td>0-02.0</td>\n      <td>Released</td>\n      <td>NaN</td>\n    </tr>\n    <tr>\n      <th>18</th>\n      <th>0015442.asm-&gt;0012397.asm-&gt;0012398.prt</th>\n      <td>2</td>\n      <td>0012398.prt</td>\n      <td>0012398.prt</td>\n      <td>0012398.prt</td>\n      <td>NaN</td>\n      <td>0012398.prt</td>\n      <td>2.0</td>\n      <td>0-02.0</td>\n      <td>Released</td>\n      <td>NaN</td>\n    </tr>\n  </tbody>\n</table>\n</div>"
     },
     "metadata": {},
     "execution_count": 30
    }
   ],
   "source": [
    "new_bom_df"
   ]
  },
  {
   "cell_type": "code",
   "execution_count": 8,
   "metadata": {},
   "outputs": [],
   "source": [
    "deleted_nodes = id_changes.get_deleted_nodes(master_bom_df, new_bom_df)\n",
    "added_nodes = id_changes.get_added_nodes(master_bom_df, new_bom_df)\n",
    "reordered_nodes = id_changes.get_reordered_nodes(master_bom_df, new_bom_df)"
   ]
  },
  {
   "cell_type": "code",
   "execution_count": 9,
   "metadata": {},
   "outputs": [],
   "source": [
    "added_columns = id_changes.get_added_columns(master_bom_df, new_bom_df)"
   ]
  },
  {
   "cell_type": "code",
   "execution_count": 10,
   "metadata": {},
   "outputs": [],
   "source": [
    "updated_elements = id_changes.get_updated_elements(master_bom_df, new_bom_df, order_only=None)"
   ]
  },
  {
   "cell_type": "code",
   "execution_count": 11,
   "metadata": {},
   "outputs": [],
   "source": [
    "updated_nodes = id_changes.get_updated_nodes(master_bom_df, new_bom_df, order_only=None)"
   ]
  },
  {
   "cell_type": "code",
   "execution_count": 12,
   "metadata": {},
   "outputs": [],
   "source": [
    "updated_bom_df = update_bom.merge_support_columns(master_bom_df, new_bom_df)"
   ]
  },
  {
   "cell_type": "code",
   "execution_count": 13,
   "metadata": {},
   "outputs": [],
   "source": [
    "updated_bom_df.index.set_names(['Order', 'Node ID'], inplace=True)"
   ]
  },
  {
   "cell_type": "code",
   "execution_count": 14,
   "metadata": {},
   "outputs": [],
   "source": [
    "writer = pd.ExcelWriter('pandasEx.xlsx', engine ='xlsxwriter')"
   ]
  },
  {
   "cell_type": "code",
   "execution_count": 15,
   "metadata": {},
   "outputs": [],
   "source": [
    "updated_bom_df.to_excel(writer, sheet_name ='Updated BOM', index=False)\n",
    "master_bom_df.loc[(slice(None), deleted_nodes), :].to_excel(writer, sheet_name ='Removed Nodes', index=False)\n",
    "new_bom_df.loc[(slice(None), added_nodes), :].to_excel(writer, sheet_name ='Added Nodes', index=False)\n",
    "master_bom_df.loc[(slice(None), updated_nodes), :].to_excel(writer, sheet_name ='Updated Nodes', index=False)\n",
    "master_bom_df.loc[(slice(None), reordered_nodes), :].to_excel(writer, sheet_name ='Reordered Nodes', index=False)"
   ]
  },
  {
   "cell_type": "code",
   "execution_count": 16,
   "metadata": {},
   "outputs": [],
   "source": [
    "workbook = writer.book"
   ]
  },
  {
   "cell_type": "code",
   "execution_count": 17,
   "metadata": {},
   "outputs": [],
   "source": [
    "worksheet_names = [worksheet.name for worksheet in workbook.worksheets()]"
   ]
  },
  {
   "cell_type": "code",
   "execution_count": 18,
   "metadata": {},
   "outputs": [],
   "source": [
    "added_column_header_format = workbook.add_format({'bg_color': '#ADD8E6', 'bold': True, 'border': 1, 'align': 'center_across', 'valign': 'top'})\n",
    "added_node_format = workbook.add_format({'bg_color': '#00B0F0'})\n",
    "reordered_node_format = workbook.add_format({'bg_color': '#92D050'})\n",
    "updated_element_format = workbook.add_format({'bg_color': '#FFFF00'})"
   ]
  },
  {
   "cell_type": "code",
   "execution_count": 19,
   "metadata": {},
   "outputs": [],
   "source": [
    "updated_bom_sheet = workbook.get_worksheet_by_name('Updated BOM')"
   ]
  },
  {
   "cell_type": "code",
   "execution_count": 20,
   "metadata": {},
   "outputs": [],
   "source": [
    "column_map = {column_name: column_position for column_position, column_name in enumerate(updated_bom_df.columns)}"
   ]
  },
  {
   "cell_type": "code",
   "execution_count": 21,
   "metadata": {},
   "outputs": [],
   "source": [
    "for column_name in added_columns:\n",
    "    updated_bom_sheet.write(0, updated_bom_df.columns.get_loc(column_name), column_name, added_column_header_format)"
   ]
  },
  {
   "cell_type": "code",
   "execution_count": 22,
   "metadata": {},
   "outputs": [],
   "source": [
    "for node_position, node_name in enumerate(updated_bom_df.index.get_level_values('Node ID')):\n",
    "    if node_name in added_nodes:\n",
    "        updated_bom_sheet.write(node_position + 1, updated_bom_df.columns.get_loc('Level'), updated_bom_df.loc[(slice(None), node_name), 'Level'][0], added_node_format)\n",
    "        updated_bom_sheet.write_string(node_position + 1, updated_bom_df.columns.get_loc('File Name'), updated_bom_df.loc[(slice(None), node_name), 'File Name'][0], added_node_format)\n",
    "\n",
    "    if node_name in reordered_nodes:\n",
    "        updated_bom_sheet.write(node_position + 1, updated_bom_df.columns.get_loc('Level'), updated_bom_df.loc[(slice(None), node_name), 'Level'][0], reordered_node_format)\n",
    "        updated_bom_sheet.write_string(node_position + 1, updated_bom_df.columns.get_loc('File Name'), updated_bom_df.loc[(slice(None), node_name), 'File Name'][0], reordered_node_format)\n",
    "\n",
    "    if node_name in updated_nodes:\n",
    "        for updated_column in updated_elements.loc[node_name, updated_elements.loc[node_name]].index.values:\n",
    "            updated_bom_sheet.write(node_position + 1, updated_bom_df.columns.get_loc(updated_column), updated_bom_df.loc[(slice(None), node_name), updated_column][0], updated_element_format)"
   ]
  },
  {
   "cell_type": "code",
   "execution_count": 23,
   "metadata": {},
   "outputs": [
    {
     "output_type": "execute_result",
     "data": {
      "text/plain": "<xlsxwriter.worksheet.Worksheet at 0x2a7e1c92f48>"
     },
     "metadata": {},
     "execution_count": 23
    }
   ],
   "source": [
    "workbook.add_worksheet('Key')"
   ]
  },
  {
   "cell_type": "code",
   "execution_count": 24,
   "metadata": {},
   "outputs": [
    {
     "output_type": "execute_result",
     "data": {
      "text/plain": "0"
     },
     "metadata": {},
     "execution_count": 24
    }
   ],
   "source": [
    "key_sheet = workbook.get_worksheet_by_name('Key')\n",
    "key_sheet.write(0, 0, 'Re-ordered nodes', reordered_node_format)\n",
    "key_sheet.write(1, 0, 'Added nodes or columns', added_node_format)\n",
    "key_sheet.write(2, 0, 'Updated nodes', updated_element_format)\n",
    "key_sheet.set_column(0, 0, key_width)"
   ]
  },
  {
   "cell_type": "code",
   "execution_count": 25,
   "metadata": {},
   "outputs": [],
   "source": [
    "max_column_widths = format_xlsx.get_max_column_widths(updated_bom_df, buffer=2)"
   ]
  },
  {
   "cell_type": "code",
   "execution_count": 27,
   "metadata": {},
   "outputs": [],
   "source": [
    "writer.save()"
   ]
  },
  {
   "cell_type": "code",
   "execution_count": null,
   "metadata": {},
   "outputs": [],
   "source": []
  }
 ]
}