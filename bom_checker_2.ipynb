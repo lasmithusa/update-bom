{
 "nbformat": 4,
 "nbformat_minor": 2,
 "metadata": {
  "language_info": {
   "name": "python",
   "codemirror_mode": {
    "name": "ipython",
    "version": 3
   },
   "version": "3.7.1-final"
  },
  "orig_nbformat": 2,
  "file_extension": ".py",
  "mimetype": "text/x-python",
  "name": "python",
  "npconvert_exporter": "python",
  "pygments_lexer": "ipython3",
  "version": 3,
  "kernelspec": {
   "name": "python37164bitbasecondade2932ff506c43939f72327047679418",
   "display_name": "Python 3.7.1 64-bit ('base': conda)"
  }
 },
 "cells": [
  {
   "cell_type": "code",
   "execution_count": 1,
   "metadata": {},
   "outputs": [],
   "source": [
    "import pandas as pd\n",
    "import numpy as np\n",
    "import id_nodes\n",
    "import id_changes\n",
    "import update_bom\n",
    "import importlib\n",
    "import format_xlsx"
   ]
  },
  {
   "cell_type": "code",
   "execution_count": 2,
   "metadata": {},
   "outputs": [],
   "source": [
    "master_bom_path = r\"..\\ShortMaster-0015442-FS-8100-BOM-20200326.xlsx\"\n",
    "new_bom_path = r\"..\\ShortTest-0015442-FS-8100-BOM-20200326.xlsx\""
   ]
  },
  {
   "cell_type": "code",
   "execution_count": 3,
   "metadata": {},
   "outputs": [],
   "source": [
    "master_bom_df = pd.read_excel(master_bom_path)\n",
    "new_bom_df = pd.read_excel(new_bom_path)"
   ]
  },
  {
   "cell_type": "code",
   "execution_count": 4,
   "metadata": {},
   "outputs": [],
   "source": [
    "master_bom_df.index.set_names('Order', inplace=True)\n",
    "new_bom_df.index.set_names('Order', inplace=True)"
   ]
  },
  {
   "cell_type": "code",
   "execution_count": 5,
   "metadata": {},
   "outputs": [],
   "source": [
    "master_bom_df['Node ID'] = id_nodes.id_nodes(master_bom_df)\n",
    "new_bom_df['Node ID'] = id_nodes.id_nodes(new_bom_df)"
   ]
  },
  {
   "cell_type": "code",
   "execution_count": 6,
   "metadata": {},
   "outputs": [],
   "source": [
    "master_bom_df.set_index('Node ID', append=True, inplace=True)\n",
    "new_bom_df.set_index('Node ID', append=True, inplace=True)"
   ]
  },
  {
   "cell_type": "code",
   "execution_count": 7,
   "metadata": {},
   "outputs": [],
   "source": [
    "main_widths = [5, 60, 60, 60, 15, 60, 10, 10, 15]\n",
    "key_width = 23"
   ]
  },
  {
   "cell_type": "code",
   "execution_count": 8,
   "metadata": {},
   "outputs": [],
   "source": [
    "deleted_nodes = id_changes.get_deleted_nodes(master_bom_df, new_bom_df)\n",
    "added_nodes = id_changes.get_added_nodes(master_bom_df, new_bom_df)\n",
    "reordered_nodes = id_changes.get_reordered_nodes(master_bom_df, new_bom_df)"
   ]
  },
  {
   "cell_type": "code",
   "execution_count": 9,
   "metadata": {},
   "outputs": [],
   "source": [
    "added_columns = id_changes.get_added_columns(master_bom_df, new_bom_df)"
   ]
  },
  {
   "cell_type": "code",
   "execution_count": 10,
   "metadata": {},
   "outputs": [],
   "source": [
    "updated_elements = id_changes.get_updated_elements(master_bom_df, new_bom_df, order_only=None)"
   ]
  },
  {
   "cell_type": "code",
   "execution_count": 11,
   "metadata": {},
   "outputs": [],
   "source": [
    "updated_nodes = id_changes.get_updated_nodes(master_bom_df, new_bom_df, order_only=None)"
   ]
  },
  {
   "cell_type": "code",
   "execution_count": 12,
   "metadata": {},
   "outputs": [],
   "source": [
    "updated_bom_df = update_bom.merge_support_columns(master_bom_df, new_bom_df).reset_index().set_index('Node ID', append=True)"
   ]
  },
  {
   "cell_type": "code",
   "execution_count": 13,
   "metadata": {},
   "outputs": [],
   "source": [
    "updated_bom_df.index.set_names(['Order', 'Node ID'], inplace=True)"
   ]
  },
  {
   "cell_type": "code",
   "execution_count": 14,
   "metadata": {},
   "outputs": [],
   "source": [
    "writer = pd.ExcelWriter('pandasEx.xlsx', engine ='xlsxwriter')"
   ]
  },
  {
   "cell_type": "code",
   "execution_count": 15,
   "metadata": {},
   "outputs": [],
   "source": [
    "updated_bom_df.to_excel(writer, sheet_name ='Updated BOM', index=False)\n",
    "master_bom_df.loc[(slice(None), deleted_nodes), :].to_excel(writer, sheet_name ='Removed Nodes', index=False)\n",
    "new_bom_df.loc[(slice(None), added_nodes), :].to_excel(writer, sheet_name ='Added Nodes', index=False)\n",
    "master_bom_df.loc[(slice(None), updated_nodes), :].to_excel(writer, sheet_name ='Updated Nodes', index=False)\n",
    "master_bom_df.loc[(slice(None), reordered_nodes), :].to_excel(writer, sheet_name ='Reordered Nodes', index=False)"
   ]
  },
  {
   "cell_type": "code",
   "execution_count": 16,
   "metadata": {},
   "outputs": [],
   "source": [
    "workbook = writer.book"
   ]
  },
  {
   "cell_type": "code",
   "execution_count": 17,
   "metadata": {},
   "outputs": [],
   "source": [
    "worksheet_names = [worksheet.name for worksheet in workbook.worksheets()]"
   ]
  },
  {
   "cell_type": "code",
   "execution_count": 18,
   "metadata": {},
   "outputs": [],
   "source": [
    "added_column_header_format = workbook.add_format({'bg_color': '#ADD8E6', 'bold': True, 'border': 1, 'align': 'center_across', 'valign': 'top'})\n",
    "added_node_format = workbook.add_format({'bg_color': '#00B0F0'})\n",
    "reordered_node_format = workbook.add_format({'bg_color': '#92D050'})\n",
    "updated_element_format = workbook.add_format({'bg_color': '#FFFF00'})"
   ]
  },
  {
   "cell_type": "code",
   "execution_count": 19,
   "metadata": {},
   "outputs": [],
   "source": [
    "updated_bom_sheet = workbook.get_worksheet_by_name('Updated BOM')"
   ]
  },
  {
   "cell_type": "code",
   "execution_count": 20,
   "metadata": {},
   "outputs": [],
   "source": [
    "column_map = {column_name: column_position for column_position, column_name in enumerate(updated_bom_df.columns)}"
   ]
  },
  {
   "cell_type": "code",
   "execution_count": 21,
   "metadata": {},
   "outputs": [],
   "source": [
    "for column_name in added_columns:\n",
    "    updated_bom_sheet.write(0, updated_bom_df.columns.get_loc(column_name), column_name, added_column_header_format)"
   ]
  },
  {
   "cell_type": "code",
   "execution_count": 22,
   "metadata": {},
   "outputs": [],
   "source": [
    "for node_position, node_name in enumerate(updated_bom_df.index.get_level_values('Node ID')):\n",
    "    if node_name in added_nodes:\n",
    "        updated_bom_sheet.write(node_position + 1, updated_bom_df.columns.get_loc('Level'), updated_bom_df.loc[(slice(None), node_name), 'Level'][0], added_node_format)\n",
    "        updated_bom_sheet.write_string(node_position + 1, updated_bom_df.columns.get_loc('File Name'), updated_bom_df.loc[(slice(None), node_name), 'File Name'][0], added_node_format)\n",
    "\n",
    "    if node_name in reordered_nodes:\n",
    "        updated_bom_sheet.write(node_position + 1, updated_bom_df.columns.get_loc('Level'), updated_bom_df.loc[(slice(None), node_name), 'Level'][0], reordered_node_format)\n",
    "        updated_bom_sheet.write_string(node_position + 1, updated_bom_df.columns.get_loc('File Name'), updated_bom_df.loc[(slice(None), node_name), 'File Name'][0], reordered_node_format)\n",
    "\n",
    "    if node_name in updated_nodes:\n",
    "        for updated_column in updated_elements.loc[node_name, updated_elements.loc[node_name]].index.values:\n",
    "            updated_bom_sheet.write(node_position + 1, updated_bom_df.columns.get_loc(updated_column), updated_bom_df.loc[(slice(None), node_name), updated_column][0], updated_element_format)"
   ]
  },
  {
   "cell_type": "code",
   "execution_count": 23,
   "metadata": {},
   "outputs": [
    {
     "output_type": "execute_result",
     "data": {
      "text/plain": "<xlsxwriter.worksheet.Worksheet at 0x17d10b76848>"
     },
     "metadata": {},
     "execution_count": 23
    }
   ],
   "source": [
    "workbook.add_worksheet('Key')"
   ]
  },
  {
   "cell_type": "code",
   "execution_count": 24,
   "metadata": {},
   "outputs": [
    {
     "output_type": "execute_result",
     "data": {
      "text/plain": "0"
     },
     "metadata": {},
     "execution_count": 24
    }
   ],
   "source": [
    "key_sheet = workbook.get_worksheet_by_name('Key')\n",
    "key_sheet.write(0, 0, 'Re-ordered nodes', reordered_node_format)\n",
    "key_sheet.write(1, 0, 'Added nodes or columns', added_node_format)\n",
    "key_sheet.write(2, 0, 'Updated nodes', updated_element_format)\n",
    "key_sheet.set_column(0, 0, key_width)"
   ]
  },
  {
   "cell_type": "code",
   "execution_count": 25,
   "metadata": {},
   "outputs": [],
   "source": [
    "max_column_widths = format_xlsx.get_max_column_widths(updated_bom_df, buffer=2)"
   ]
  },
  {
   "cell_type": "code",
   "execution_count": 26,
   "metadata": {},
   "outputs": [],
   "source": [
    "for worksheet in workbook.worksheets():\n",
    "    if not worksheet.name == 'Key':\n",
    "        format_xlsx.set_sheet_column_widths(worksheet, max_column_widths)"
   ]
  },
  {
   "cell_type": "code",
   "execution_count": 27,
   "metadata": {},
   "outputs": [],
   "source": [
    "writer.save()"
   ]
  },
  {
   "cell_type": "code",
   "execution_count": null,
   "metadata": {},
   "outputs": [],
   "source": []
  }
 ]
}