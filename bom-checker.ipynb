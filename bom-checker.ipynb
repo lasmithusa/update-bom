{
 "nbformat": 4,
 "nbformat_minor": 2,
 "metadata": {
  "language_info": {
   "name": "python",
   "codemirror_mode": {
    "name": "ipython",
    "version": 3
   },
   "version": "3.7.1-final"
  },
  "orig_nbformat": 2,
  "file_extension": ".py",
  "mimetype": "text/x-python",
  "name": "python",
  "npconvert_exporter": "python",
  "pygments_lexer": "ipython3",
  "version": 3,
  "kernelspec": {
   "name": "python37164bitbasecondade2932ff506c43939f72327047679418",
   "display_name": "Python 3.7.1 64-bit ('base': conda)"
  }
 },
 "cells": [
  {
   "cell_type": "code",
   "execution_count": 1,
   "metadata": {},
   "outputs": [],
   "source": [
    "import pandas as pd\n",
    "import numpy as np"
   ]
  },
  {
   "cell_type": "code",
   "execution_count": 2,
   "metadata": {},
   "outputs": [],
   "source": [
    "master_path = r\"..\\Master-0015442-FS-8100-BOM-20200326.xlsx\"\n",
    "compared_path = r\"..\\0015442-FS-8100-BOM-20200326.xlsx\""
   ]
  },
  {
   "cell_type": "code",
   "execution_count": 3,
   "metadata": {},
   "outputs": [],
   "source": [
    "master_df = pd.read_excel(master_path)\n",
    "compared_df = pd.read_excel(compared_path)"
   ]
  },
  {
   "cell_type": "code",
   "execution_count": 4,
   "metadata": {},
   "outputs": [],
   "source": [
    "master_df.index.set_names('Order', inplace=True)\n",
    "compared_df.index.set_names('Order', inplace=True)"
   ]
  },
  {
   "cell_type": "code",
   "execution_count": 5,
   "metadata": {},
   "outputs": [
    {
     "output_type": "execute_result",
     "data": {
      "text/plain": "'    0019043.prt'"
     },
     "metadata": {},
     "execution_count": 5
    }
   ],
   "source": [
    "master_df.at[1, 'File Name']"
   ]
  },
  {
   "cell_type": "code",
   "execution_count": 6,
   "metadata": {},
   "outputs": [],
   "source": [
    "def id_immediate_parent(df_child_row, df):\n",
    "    immediate_parent_level = -1\n",
    "    immediate_parent_index = -1\n",
    "    immediate_parent_file_name = ''\n",
    "\n",
    "    if not df_child_row['Level'] == 0:\n",
    "        # get parent level\n",
    "        immediate_parent_level = df_child_row['Level'] - 1\n",
    "\n",
    "        # get parent index\n",
    "        immediate_parent_index = df['Level'].iloc[:df_child_row.name].eq(immediate_parent_level).sort_index(ascending=False).idxmax()\n",
    "\n",
    "        # get parent file name\n",
    "        immediate_parent_file_name = df.at[immediate_parent_index, 'File Name'].strip()\n",
    "\n",
    "    return [df_child_row.name, immediate_parent_index, immediate_parent_level, immediate_parent_file_name]"
   ]
  },
  {
   "cell_type": "code",
   "execution_count": 7,
   "metadata": {
    "tags": [
     "outputPrepend",
     "outputPrepend",
     "outputPrepend",
     "outputPrepend",
     "outputPrepend",
     "outputPrepend",
     "outputPrepend",
     "outputPrepend",
     "outputPrepend",
     "outputPrepend",
     "outputPrepend",
     "outputPrepend",
     "outputPrepend",
     "outputPrepend",
     "outputPrepend",
     "outputPrepend",
     "outputPrepend",
     "outputPrepend",
     "outputPrepend",
     "outputPrepend",
     "outputPrepend",
     "outputPrepend",
     "outputPrepend",
     "outputPrepend",
     "outputPrepend",
     "outputPrepend",
     "outputPrepend",
     "outputPrepend",
     "outputPrepend",
     "outputPrepend",
     "outputPrepend",
     "outputPrepend",
     "outputPrepend",
     "outputPrepend",
     "outputPrepend",
     "outputPrepend",
     "outputPrepend",
     "outputPrepend",
     "outputPrepend",
     "outputPrepend",
     "outputPrepend"
    ]
   },
   "outputs": [],
   "source": [
    "immediate_parent_id_df = master_df.apply(func=id_immediate_parent, axis=1, result_type='expand', args=(master_df, ))"
   ]
  },
  {
   "cell_type": "code",
   "execution_count": 8,
   "metadata": {},
   "outputs": [],
   "source": [
    "immediate_parent_id_df.columns = ['Child Index', 'Last Parent Index', 'Last Parent Level', 'Last Parent File Name']"
   ]
  },
  {
   "cell_type": "code",
   "execution_count": 9,
   "metadata": {},
   "outputs": [],
   "source": [
    "immediate_parent_id_df.set_index('Child Index', inplace=True)"
   ]
  },
  {
   "cell_type": "code",
   "execution_count": 10,
   "metadata": {},
   "outputs": [
    {
     "output_type": "execute_result",
     "data": {
      "text/plain": "             Last Parent Index  Last Parent Level Last Parent File Name\nChild Index                                                            \n0                           -1                 -1                      \n1                            0                  0           0015442.asm\n2                            0                  0           0015442.asm\n3                            2                  1           0018435.asm\n4                            3                  2           0018442.asm\n...                        ...                ...                   ...\n817                          0                  0           0015442.asm\n818                        817                  1           0018168.asm\n819                        817                  1           0018168.asm\n820                        817                  1           0018168.asm\n821                        817                  1           0018168.asm\n\n[822 rows x 3 columns]",
      "text/html": "<div>\n<style scoped>\n    .dataframe tbody tr th:only-of-type {\n        vertical-align: middle;\n    }\n\n    .dataframe tbody tr th {\n        vertical-align: top;\n    }\n\n    .dataframe thead th {\n        text-align: right;\n    }\n</style>\n<table border=\"1\" class=\"dataframe\">\n  <thead>\n    <tr style=\"text-align: right;\">\n      <th></th>\n      <th>Last Parent Index</th>\n      <th>Last Parent Level</th>\n      <th>Last Parent File Name</th>\n    </tr>\n    <tr>\n      <th>Child Index</th>\n      <th></th>\n      <th></th>\n      <th></th>\n    </tr>\n  </thead>\n  <tbody>\n    <tr>\n      <th>0</th>\n      <td>-1</td>\n      <td>-1</td>\n      <td></td>\n    </tr>\n    <tr>\n      <th>1</th>\n      <td>0</td>\n      <td>0</td>\n      <td>0015442.asm</td>\n    </tr>\n    <tr>\n      <th>2</th>\n      <td>0</td>\n      <td>0</td>\n      <td>0015442.asm</td>\n    </tr>\n    <tr>\n      <th>3</th>\n      <td>2</td>\n      <td>1</td>\n      <td>0018435.asm</td>\n    </tr>\n    <tr>\n      <th>4</th>\n      <td>3</td>\n      <td>2</td>\n      <td>0018442.asm</td>\n    </tr>\n    <tr>\n      <th>...</th>\n      <td>...</td>\n      <td>...</td>\n      <td>...</td>\n    </tr>\n    <tr>\n      <th>817</th>\n      <td>0</td>\n      <td>0</td>\n      <td>0015442.asm</td>\n    </tr>\n    <tr>\n      <th>818</th>\n      <td>817</td>\n      <td>1</td>\n      <td>0018168.asm</td>\n    </tr>\n    <tr>\n      <th>819</th>\n      <td>817</td>\n      <td>1</td>\n      <td>0018168.asm</td>\n    </tr>\n    <tr>\n      <th>820</th>\n      <td>817</td>\n      <td>1</td>\n      <td>0018168.asm</td>\n    </tr>\n    <tr>\n      <th>821</th>\n      <td>817</td>\n      <td>1</td>\n      <td>0018168.asm</td>\n    </tr>\n  </tbody>\n</table>\n<p>822 rows × 3 columns</p>\n</div>"
     },
     "metadata": {},
     "execution_count": 10
    }
   ],
   "source": [
    "immediate_parent_id_df"
   ]
  },
  {
   "cell_type": "code",
   "execution_count": 11,
   "metadata": {},
   "outputs": [],
   "source": [
    "def generate_immediate_parent_id_df(df):\n",
    "    immediate_parent_id_df = df.apply(func=id_immediate_parent, axis=1, result_type='expand', args=(df, ))\n",
    "    immediate_parent_id_df.columns = ['Order', 'Immediate Parent Index', 'Immediate Parent Level', 'Immediate Parent File Name']\n",
    "    return immediate_parent_id_df.set_index('Order')"
   ]
  },
  {
   "cell_type": "code",
   "execution_count": 12,
   "metadata": {},
   "outputs": [],
   "source": [
    "def crawl_immediate_parents(child_row, immediate_parent_id_df):\n",
    "    if child_row['Immediate Parent Level'] == -1:\n",
    "        return [], [], []\n",
    "    else:\n",
    "        parent_row = immediate_parent_id_df.loc[child_row['Immediate Parent Index']]\n",
    "\n",
    "        parent_indices, parent_levels, parent_file_names = crawl_immediate_parents(parent_row, immediate_parent_id_df)\n",
    "\n",
    "        parent_indices.extend([child_row['Immediate Parent Index']])\n",
    "        parent_levels.extend([child_row['Immediate Parent Level']])\n",
    "        parent_file_names.extend([child_row['Immediate Parent File Name']])\n",
    "        \n",
    "        return parent_indices, parent_levels, parent_file_names"
   ]
  },
  {
   "cell_type": "code",
   "execution_count": 13,
   "metadata": {},
   "outputs": [],
   "source": [
    "def generate_all_parent_id_df(df):\n",
    "    immediate_parent_id_df = generate_immediate_parent_id_df(df)\n",
    "    all_parent_id_df = immediate_parent_id_df.apply(crawl_immediate_parents, axis=1, result_type='expand', args=(immediate_parent_id_df, ))\n",
    "    all_parent_id_df.columns = ['Parent Indices', 'Parent Levels', 'Parent File Names']\n",
    "    \n",
    "    return all_parent_id_df"
   ]
  },
  {
   "cell_type": "code",
   "execution_count": 14,
   "metadata": {},
   "outputs": [],
   "source": [
    "def id_parents(df):\n",
    "    return generate_all_parent_id_df(df)['Parent File Names'].str.join('->')"
   ]
  },
  {
   "cell_type": "code",
   "execution_count": 15,
   "metadata": {},
   "outputs": [],
   "source": [
    "def id_nodes(df):\n",
    "    return id_parents(df).str.cat(df['File Name'].str.strip(), sep=\"->\")"
   ]
  },
  {
   "cell_type": "code",
   "execution_count": 16,
   "metadata": {},
   "outputs": [],
   "source": [
    "master_path = r\"..\\ShortMaster-0015442-FS-8100-BOM-20200326.xlsx\"\n",
    "compared_path = r\"..\\ShortTest-0015442-FS-8100-BOM-20200326.xlsx\"\n",
    "master_df = pd.read_excel(master_path, keep_default_na=False)\n",
    "compared_df = pd.read_excel(compared_path, keep_default_na=False)\n",
    "master_df.index.set_names('Order', inplace=True)\n",
    "compared_df.index.set_names('Order', inplace=True)"
   ]
  },
  {
   "cell_type": "code",
   "execution_count": 17,
   "metadata": {},
   "outputs": [],
   "source": [
    "compare_columns = [master_column for master_column in master_df.columns if master_column in compared_df.columns]"
   ]
  },
  {
   "cell_type": "code",
   "execution_count": 18,
   "metadata": {},
   "outputs": [],
   "source": [
    "master_df['Node ID'] = id_nodes(master_df)\n",
    "compared_df['Node ID'] = id_nodes(compared_df)"
   ]
  },
  {
   "cell_type": "code",
   "execution_count": 19,
   "metadata": {},
   "outputs": [],
   "source": [
    "# ~master_df['Node ID'].isin(compared_df['Node ID']).values"
   ]
  },
  {
   "cell_type": "code",
   "execution_count": 20,
   "metadata": {},
   "outputs": [],
   "source": [
    "master_df.set_index('Node ID', append=True, inplace=True)\n",
    "compared_df.set_index('Node ID', append=True, inplace=True)"
   ]
  },
  {
   "cell_type": "code",
   "execution_count": 21,
   "metadata": {},
   "outputs": [],
   "source": [
    "deleted_nodes = ~master_df.index.get_level_values('Node ID').isin(compared_df.index.get_level_values('Node ID'))"
   ]
  },
  {
   "cell_type": "code",
   "execution_count": 22,
   "metadata": {},
   "outputs": [],
   "source": [
    "# deleted_nodes"
   ]
  },
  {
   "cell_type": "code",
   "execution_count": 23,
   "metadata": {},
   "outputs": [],
   "source": [
    "# ~master_df.reset_index()['Node ID'].isin(compared_df.reset_index()['Node ID'])"
   ]
  },
  {
   "cell_type": "code",
   "execution_count": 24,
   "metadata": {},
   "outputs": [],
   "source": [
    "added_nodes = ~compared_df.index.get_level_values('Node ID').isin(master_df.index.get_level_values('Node ID'))"
   ]
  },
  {
   "cell_type": "code",
   "execution_count": 25,
   "metadata": {},
   "outputs": [],
   "source": [
    "updated_elements = ~master_df.loc[slice(None), compare_columns].reset_index('Order').eq(compared_df[slice(None)].reset_index('Order'))"
   ]
  },
  {
   "cell_type": "code",
   "execution_count": 26,
   "metadata": {},
   "outputs": [],
   "source": [
    "# master_df[compare_columns].reset_index('Order').merge(compared_df.reset_index('Order'), left_on='Node ID', right_on='Node ID', how='outer', indicator=True)"
   ]
  },
  {
   "cell_type": "code",
   "execution_count": 27,
   "metadata": {},
   "outputs": [],
   "source": [
    "# updated_elements"
   ]
  },
  {
   "cell_type": "code",
   "execution_count": 28,
   "metadata": {},
   "outputs": [],
   "source": [
    "# master_df[deleted_nodes]"
   ]
  },
  {
   "cell_type": "code",
   "execution_count": 29,
   "metadata": {},
   "outputs": [
    {
     "output_type": "execute_result",
     "data": {
      "text/plain": "                                                          Level  \\\nOrder Node ID                                                     \n12    0015442.asm->0018435.asm->0019012.asm                   2   \n13    0015442.asm->0018435.asm->0019012.asm->0018439_...      3   \n14    0015442.asm->0018435.asm->0019012.asm->0019011.prt      3   \n15    0015442.asm->0018435.asm->0019012.asm->0007471.prt      3   \n16    0015442.asm->0018435.asm->0019012.asm->0012468.prt      3   \n17    0015442.asm->0012397.asm                                1   \n18    0015442.asm->0012397.asm->0012398.prt                   2   \n\n                                                                                   File Name  \\\nOrder Node ID                                                                                  \n12    0015442.asm->0018435.asm->0019012.asm                                      0019012.asm   \n13    0015442.asm->0018435.asm->0019012.asm->0018439_...              0018439_revised_02.prt   \n14    0015442.asm->0018435.asm->0019012.asm->0019011.prt                         0019011.prt   \n15    0015442.asm->0018435.asm->0019012.asm->0007471.prt                         0007471.prt   \n16    0015442.asm->0018435.asm->0019012.asm->0012468.prt                         0012468.prt   \n17    0015442.asm->0012397.asm                                                   0012397.asm   \n18    0015442.asm->0012397.asm->0012398.prt                                      0012398.prt   \n\n                                                                                                       Name  \\\nOrder Node ID                                                                                                 \n12    0015442.asm->0018435.asm->0019012.asm                                    HAT, ICE BIN DRAIN TUBE ASSY   \n13    0015442.asm->0018435.asm->0019012.asm->0018439_...                             0018439_revised_02.prt   \n14    0015442.asm->0018435.asm->0019012.asm->0019011.prt                            HAT, ICE BIN DRAIN TUBE   \n15    0015442.asm->0018435.asm->0019012.asm->0007471.prt  RIVET, BD, 0.125\" DIA, 0.063\"-0.125\" RNG, 420L...   \n16    0015442.asm->0018435.asm->0019012.asm->0012468.prt                                              RIVET   \n17    0015442.asm->0012397.asm                                                               ASSM, 9100 LEG   \n18    0015442.asm->0012397.asm->0012398.prt                                                     0012398.prt   \n\n                                                                                              D_TITLE  \\\nOrder Node ID                                                                                           \n12    0015442.asm->0018435.asm->0019012.asm                              HAT, ICE BIN DRAIN TUBE ASSY   \n13    0015442.asm->0018435.asm->0019012.asm->0018439_...                       0018439_revised_02.prt   \n14    0015442.asm->0018435.asm->0019012.asm->0019011.prt                      HAT, ICE BIN DRAIN TUBE   \n15    0015442.asm->0018435.asm->0019012.asm->0007471.prt  RIVET, BLIND .125 DIA X .125, SS, DOME HEAD   \n16    0015442.asm->0018435.asm->0019012.asm->0012468.prt                                        RIVET   \n17    0015442.asm->0012397.asm                                                            0012397.asm   \n18    0015442.asm->0012397.asm->0012398.prt                                               0012398.prt   \n\n                                                         D_TITLE2  \\\nOrder Node ID                                                       \n12    0015442.asm->0018435.asm->0019012.asm                         \n13    0015442.asm->0018435.asm->0019012.asm->0018439_...            \n14    0015442.asm->0018435.asm->0019012.asm->0019011.prt            \n15    0015442.asm->0018435.asm->0019012.asm->0007471.prt            \n16    0015442.asm->0018435.asm->0019012.asm->0012468.prt            \n17    0015442.asm->0012397.asm                                      \n18    0015442.asm->0012397.asm->0012398.prt                         \n\n                                                                                         D_DESCRIPTION  \\\nOrder Node ID                                                                                            \n12    0015442.asm->0018435.asm->0019012.asm                              HAT, ICE BIN DRAIN TUBE ASSY    \n13    0015442.asm->0018435.asm->0019012.asm->0018439_...                       0018439_revised_02.prt    \n14    0015442.asm->0018435.asm->0019012.asm->0019011.prt                      HAT, ICE BIN DRAIN TUBE    \n15    0015442.asm->0018435.asm->0019012.asm->0007471.prt  RIVET, BLIND .125 DIA X .125, SS, DOME HEAD    \n16    0015442.asm->0018435.asm->0019012.asm->0012468.prt                                        RIVET    \n17    0015442.asm->0012397.asm                                                            0012397.asm    \n18    0015442.asm->0012397.asm->0012398.prt                                               0012398.prt    \n\n                                                         Quantity Version  \\\nOrder Node ID                                                               \n12    0015442.asm->0018435.asm->0019012.asm                     1  0-00.1   \n13    0015442.asm->0018435.asm->0019012.asm->0018439_...        1  0-00.1   \n14    0015442.asm->0018435.asm->0019012.asm->0019011.prt        1  0-00.1   \n15    0015442.asm->0018435.asm->0019012.asm->0007471.prt        8  0-00.0   \n16    0015442.asm->0018435.asm->0019012.asm->0012468.prt        4  0-00.2   \n17    0015442.asm->0012397.asm                                  2  0-02.0   \n18    0015442.asm->0012397.asm->0012398.prt                     2  0-02.0   \n\n                                                               State TestOnly  \nOrder Node ID                                                                  \n12    0015442.asm->0018435.asm->0019012.asm               Processing           \n13    0015442.asm->0018435.asm->0019012.asm->0018439_...  Processing           \n14    0015442.asm->0018435.asm->0019012.asm->0019011.prt  Processing           \n15    0015442.asm->0018435.asm->0019012.asm->0007471.prt    Released           \n16    0015442.asm->0018435.asm->0019012.asm->0012468.prt    Released           \n17    0015442.asm->0012397.asm                              Released           \n18    0015442.asm->0012397.asm->0012398.prt                 Released           ",
      "text/html": "<div>\n<style scoped>\n    .dataframe tbody tr th:only-of-type {\n        vertical-align: middle;\n    }\n\n    .dataframe tbody tr th {\n        vertical-align: top;\n    }\n\n    .dataframe thead th {\n        text-align: right;\n    }\n</style>\n<table border=\"1\" class=\"dataframe\">\n  <thead>\n    <tr style=\"text-align: right;\">\n      <th></th>\n      <th></th>\n      <th>Level</th>\n      <th>File Name</th>\n      <th>Name</th>\n      <th>D_TITLE</th>\n      <th>D_TITLE2</th>\n      <th>D_DESCRIPTION</th>\n      <th>Quantity</th>\n      <th>Version</th>\n      <th>State</th>\n      <th>TestOnly</th>\n    </tr>\n    <tr>\n      <th>Order</th>\n      <th>Node ID</th>\n      <th></th>\n      <th></th>\n      <th></th>\n      <th></th>\n      <th></th>\n      <th></th>\n      <th></th>\n      <th></th>\n      <th></th>\n      <th></th>\n    </tr>\n  </thead>\n  <tbody>\n    <tr>\n      <th>12</th>\n      <th>0015442.asm-&gt;0018435.asm-&gt;0019012.asm</th>\n      <td>2</td>\n      <td>0019012.asm</td>\n      <td>HAT, ICE BIN DRAIN TUBE ASSY</td>\n      <td>HAT, ICE BIN DRAIN TUBE ASSY</td>\n      <td></td>\n      <td>HAT, ICE BIN DRAIN TUBE ASSY</td>\n      <td>1</td>\n      <td>0-00.1</td>\n      <td>Processing</td>\n      <td></td>\n    </tr>\n    <tr>\n      <th>13</th>\n      <th>0015442.asm-&gt;0018435.asm-&gt;0019012.asm-&gt;0018439_revised_02.prt</th>\n      <td>3</td>\n      <td>0018439_revised_02.prt</td>\n      <td>0018439_revised_02.prt</td>\n      <td>0018439_revised_02.prt</td>\n      <td></td>\n      <td>0018439_revised_02.prt</td>\n      <td>1</td>\n      <td>0-00.1</td>\n      <td>Processing</td>\n      <td></td>\n    </tr>\n    <tr>\n      <th>14</th>\n      <th>0015442.asm-&gt;0018435.asm-&gt;0019012.asm-&gt;0019011.prt</th>\n      <td>3</td>\n      <td>0019011.prt</td>\n      <td>HAT, ICE BIN DRAIN TUBE</td>\n      <td>HAT, ICE BIN DRAIN TUBE</td>\n      <td></td>\n      <td>HAT, ICE BIN DRAIN TUBE</td>\n      <td>1</td>\n      <td>0-00.1</td>\n      <td>Processing</td>\n      <td></td>\n    </tr>\n    <tr>\n      <th>15</th>\n      <th>0015442.asm-&gt;0018435.asm-&gt;0019012.asm-&gt;0007471.prt</th>\n      <td>3</td>\n      <td>0007471.prt</td>\n      <td>RIVET, BD, 0.125\" DIA, 0.063\"-0.125\" RNG, 420L...</td>\n      <td>RIVET, BLIND .125 DIA X .125, SS, DOME HEAD</td>\n      <td></td>\n      <td>RIVET, BLIND .125 DIA X .125, SS, DOME HEAD</td>\n      <td>8</td>\n      <td>0-00.0</td>\n      <td>Released</td>\n      <td></td>\n    </tr>\n    <tr>\n      <th>16</th>\n      <th>0015442.asm-&gt;0018435.asm-&gt;0019012.asm-&gt;0012468.prt</th>\n      <td>3</td>\n      <td>0012468.prt</td>\n      <td>RIVET</td>\n      <td>RIVET</td>\n      <td></td>\n      <td>RIVET</td>\n      <td>4</td>\n      <td>0-00.2</td>\n      <td>Released</td>\n      <td></td>\n    </tr>\n    <tr>\n      <th>17</th>\n      <th>0015442.asm-&gt;0012397.asm</th>\n      <td>1</td>\n      <td>0012397.asm</td>\n      <td>ASSM, 9100 LEG</td>\n      <td>0012397.asm</td>\n      <td></td>\n      <td>0012397.asm</td>\n      <td>2</td>\n      <td>0-02.0</td>\n      <td>Released</td>\n      <td></td>\n    </tr>\n    <tr>\n      <th>18</th>\n      <th>0015442.asm-&gt;0012397.asm-&gt;0012398.prt</th>\n      <td>2</td>\n      <td>0012398.prt</td>\n      <td>0012398.prt</td>\n      <td>0012398.prt</td>\n      <td></td>\n      <td>0012398.prt</td>\n      <td>2</td>\n      <td>0-02.0</td>\n      <td>Released</td>\n      <td></td>\n    </tr>\n  </tbody>\n</table>\n</div>"
     },
     "metadata": {},
     "execution_count": 29
    }
   ],
   "source": [
    "compared_df[added_nodes]"
   ]
  },
  {
   "cell_type": "code",
   "execution_count": 30,
   "metadata": {},
   "outputs": [
    {
     "output_type": "execute_result",
     "data": {
      "text/plain": "Order  Node ID                                                      \n12     0015442.asm->0018435.asm->0019012.asm                            False\n13     0015442.asm->0018435.asm->0019012.asm->0018439_revised_02.prt    False\n14     0015442.asm->0018435.asm->0019012.asm->0019011.prt               False\n15     0015442.asm->0018435.asm->0019012.asm->0007471.prt               False\n16     0015442.asm->0018435.asm->0019012.asm->0012468.prt                True\n17     0015442.asm->0012397.asm                                         False\n18     0015442.asm->0012397.asm->0012398.prt                            False\nName: File Name, dtype: bool"
     },
     "metadata": {},
     "execution_count": 30
    }
   ],
   "source": [
    "compared_df.loc[added_nodes, 'File Name'].isin(master_df['File Name'].values)"
   ]
  },
  {
   "cell_type": "code",
   "execution_count": 31,
   "metadata": {},
   "outputs": [],
   "source": [
    "import id_changes\n",
    "import importlib"
   ]
  },
  {
   "cell_type": "code",
   "execution_count": 32,
   "metadata": {},
   "outputs": [
    {
     "output_type": "execute_result",
     "data": {
      "text/plain": "<module 'id_changes' from 'c:\\\\Users\\\\Luke Smith\\\\Desktop\\\\Coca-Cola\\\\BOM Mgmt\\\\bom-checker\\\\id_changes.py'>"
     },
     "metadata": {},
     "execution_count": 32
    }
   ],
   "source": [
    "importlib.reload(id_changes)"
   ]
  },
  {
   "cell_type": "code",
   "execution_count": 33,
   "metadata": {},
   "outputs": [],
   "source": [
    "updated_elements = id_changes.get_updated_elements(master_df, compared_df, order_only=None)"
   ]
  },
  {
   "cell_type": "code",
   "execution_count": 34,
   "metadata": {},
   "outputs": [
    {
     "output_type": "execute_result",
     "data": {
      "text/plain": "                                                    Level  File Name   Name  \\\nNode ID                                                                       \n->0015442.asm                                       False      False  False   \n0015442.asm->0018435.asm                            False      False  False   \n0015442.asm->0018435.asm->0014175.prt               False      False  False   \n0015442.asm->0018435.asm->0018436.prt               False      False  False   \n0015442.asm->0018435.asm->0018437.prt               False      False  False   \n0015442.asm->0018435.asm->0018438.prt               False      False  False   \n0015442.asm->0018435.asm->0018442.asm               False      False  False   \n0015442.asm->0018435.asm->0018442.asm->0011799.prt  False      False  False   \n0015442.asm->0018435.asm->0018442.asm->0012468.prt  False      False  False   \n0015442.asm->0018435.asm->0018442.asm->0014161.prt  False      False  False   \n0015442.asm->0018435.asm->0018442.asm->0018441.prt  False      False  False   \n0015442.asm->0019043.prt                            False      False  False   \n\n                                                    D_TITLE  D_TITLE2  \\\nNode ID                                                                 \n->0015442.asm                                         False     False   \n0015442.asm->0018435.asm                              False     False   \n0015442.asm->0018435.asm->0014175.prt                 False     False   \n0015442.asm->0018435.asm->0018436.prt                 False     False   \n0015442.asm->0018435.asm->0018437.prt                 False     False   \n0015442.asm->0018435.asm->0018438.prt                 False     False   \n0015442.asm->0018435.asm->0018442.asm                 False     False   \n0015442.asm->0018435.asm->0018442.asm->0011799.prt    False     False   \n0015442.asm->0018435.asm->0018442.asm->0012468.prt    False     False   \n0015442.asm->0018435.asm->0018442.asm->0014161.prt    False     False   \n0015442.asm->0018435.asm->0018442.asm->0018441.prt    False     False   \n0015442.asm->0019043.prt                              False     False   \n\n                                                    D_DESCRIPTION  Quantity  \\\nNode ID                                                                       \n->0015442.asm                                               False     False   \n0015442.asm->0018435.asm                                    False     False   \n0015442.asm->0018435.asm->0014175.prt                       False     False   \n0015442.asm->0018435.asm->0018436.prt                       False     False   \n0015442.asm->0018435.asm->0018437.prt                       False     False   \n0015442.asm->0018435.asm->0018438.prt                       False     False   \n0015442.asm->0018435.asm->0018442.asm                       False     False   \n0015442.asm->0018435.asm->0018442.asm->0011799.prt          False     False   \n0015442.asm->0018435.asm->0018442.asm->0012468.prt          False     False   \n0015442.asm->0018435.asm->0018442.asm->0014161.prt          False     False   \n0015442.asm->0018435.asm->0018442.asm->0018441.prt          False     False   \n0015442.asm->0019043.prt                                    False     False   \n\n                                                    Version  State  \nNode ID                                                             \n->0015442.asm                                         False  False  \n0015442.asm->0018435.asm                              False  False  \n0015442.asm->0018435.asm->0014175.prt                  True  False  \n0015442.asm->0018435.asm->0018436.prt                 False  False  \n0015442.asm->0018435.asm->0018437.prt                 False  False  \n0015442.asm->0018435.asm->0018438.prt                 False  False  \n0015442.asm->0018435.asm->0018442.asm                 False  False  \n0015442.asm->0018435.asm->0018442.asm->0011799.prt    False  False  \n0015442.asm->0018435.asm->0018442.asm->0012468.prt    False  False  \n0015442.asm->0018435.asm->0018442.asm->0014161.prt    False  False  \n0015442.asm->0018435.asm->0018442.asm->0018441.prt    False  False  \n0015442.asm->0019043.prt                              False  False  ",
      "text/html": "<div>\n<style scoped>\n    .dataframe tbody tr th:only-of-type {\n        vertical-align: middle;\n    }\n\n    .dataframe tbody tr th {\n        vertical-align: top;\n    }\n\n    .dataframe thead th {\n        text-align: right;\n    }\n</style>\n<table border=\"1\" class=\"dataframe\">\n  <thead>\n    <tr style=\"text-align: right;\">\n      <th></th>\n      <th>Level</th>\n      <th>File Name</th>\n      <th>Name</th>\n      <th>D_TITLE</th>\n      <th>D_TITLE2</th>\n      <th>D_DESCRIPTION</th>\n      <th>Quantity</th>\n      <th>Version</th>\n      <th>State</th>\n    </tr>\n    <tr>\n      <th>Node ID</th>\n      <th></th>\n      <th></th>\n      <th></th>\n      <th></th>\n      <th></th>\n      <th></th>\n      <th></th>\n      <th></th>\n      <th></th>\n    </tr>\n  </thead>\n  <tbody>\n    <tr>\n      <th>-&gt;0015442.asm</th>\n      <td>False</td>\n      <td>False</td>\n      <td>False</td>\n      <td>False</td>\n      <td>False</td>\n      <td>False</td>\n      <td>False</td>\n      <td>False</td>\n      <td>False</td>\n    </tr>\n    <tr>\n      <th>0015442.asm-&gt;0018435.asm</th>\n      <td>False</td>\n      <td>False</td>\n      <td>False</td>\n      <td>False</td>\n      <td>False</td>\n      <td>False</td>\n      <td>False</td>\n      <td>False</td>\n      <td>False</td>\n    </tr>\n    <tr>\n      <th>0015442.asm-&gt;0018435.asm-&gt;0014175.prt</th>\n      <td>False</td>\n      <td>False</td>\n      <td>False</td>\n      <td>False</td>\n      <td>False</td>\n      <td>False</td>\n      <td>False</td>\n      <td>True</td>\n      <td>False</td>\n    </tr>\n    <tr>\n      <th>0015442.asm-&gt;0018435.asm-&gt;0018436.prt</th>\n      <td>False</td>\n      <td>False</td>\n      <td>False</td>\n      <td>False</td>\n      <td>False</td>\n      <td>False</td>\n      <td>False</td>\n      <td>False</td>\n      <td>False</td>\n    </tr>\n    <tr>\n      <th>0015442.asm-&gt;0018435.asm-&gt;0018437.prt</th>\n      <td>False</td>\n      <td>False</td>\n      <td>False</td>\n      <td>False</td>\n      <td>False</td>\n      <td>False</td>\n      <td>False</td>\n      <td>False</td>\n      <td>False</td>\n    </tr>\n    <tr>\n      <th>0015442.asm-&gt;0018435.asm-&gt;0018438.prt</th>\n      <td>False</td>\n      <td>False</td>\n      <td>False</td>\n      <td>False</td>\n      <td>False</td>\n      <td>False</td>\n      <td>False</td>\n      <td>False</td>\n      <td>False</td>\n    </tr>\n    <tr>\n      <th>0015442.asm-&gt;0018435.asm-&gt;0018442.asm</th>\n      <td>False</td>\n      <td>False</td>\n      <td>False</td>\n      <td>False</td>\n      <td>False</td>\n      <td>False</td>\n      <td>False</td>\n      <td>False</td>\n      <td>False</td>\n    </tr>\n    <tr>\n      <th>0015442.asm-&gt;0018435.asm-&gt;0018442.asm-&gt;0011799.prt</th>\n      <td>False</td>\n      <td>False</td>\n      <td>False</td>\n      <td>False</td>\n      <td>False</td>\n      <td>False</td>\n      <td>False</td>\n      <td>False</td>\n      <td>False</td>\n    </tr>\n    <tr>\n      <th>0015442.asm-&gt;0018435.asm-&gt;0018442.asm-&gt;0012468.prt</th>\n      <td>False</td>\n      <td>False</td>\n      <td>False</td>\n      <td>False</td>\n      <td>False</td>\n      <td>False</td>\n      <td>False</td>\n      <td>False</td>\n      <td>False</td>\n    </tr>\n    <tr>\n      <th>0015442.asm-&gt;0018435.asm-&gt;0018442.asm-&gt;0014161.prt</th>\n      <td>False</td>\n      <td>False</td>\n      <td>False</td>\n      <td>False</td>\n      <td>False</td>\n      <td>False</td>\n      <td>False</td>\n      <td>False</td>\n      <td>False</td>\n    </tr>\n    <tr>\n      <th>0015442.asm-&gt;0018435.asm-&gt;0018442.asm-&gt;0018441.prt</th>\n      <td>False</td>\n      <td>False</td>\n      <td>False</td>\n      <td>False</td>\n      <td>False</td>\n      <td>False</td>\n      <td>False</td>\n      <td>False</td>\n      <td>False</td>\n    </tr>\n    <tr>\n      <th>0015442.asm-&gt;0019043.prt</th>\n      <td>False</td>\n      <td>False</td>\n      <td>False</td>\n      <td>False</td>\n      <td>False</td>\n      <td>False</td>\n      <td>False</td>\n      <td>False</td>\n      <td>False</td>\n    </tr>\n  </tbody>\n</table>\n</div>"
     },
     "metadata": {},
     "execution_count": 34
    }
   ],
   "source": [
    "updated_elements"
   ]
  },
  {
   "cell_type": "code",
   "execution_count": 35,
   "metadata": {},
   "outputs": [],
   "source": [
    "# master_df.reset_index().set_index('Node ID')[updated_elements].combine_first(master_df.reset_index().set_index('Node ID'))"
   ]
  },
  {
   "cell_type": "code",
   "execution_count": 36,
   "metadata": {},
   "outputs": [],
   "source": [
    "support_columns = id_changes.get_support_columns(master_df, compared_df)"
   ]
  },
  {
   "cell_type": "code",
   "execution_count": 37,
   "metadata": {},
   "outputs": [],
   "source": [
    "updated_bom_df = compared_df.merge(master_df.loc[~deleted_nodes, support_columns], on='Node ID', how='outer')"
   ]
  },
  {
   "cell_type": "code",
   "execution_count": 38,
   "metadata": {},
   "outputs": [],
   "source": [
    "def highlight_true(element, color='yellow'):\n",
    "    if not element == True:\n",
    "        color = 'none'\n",
    "        \n",
    "    return 'background-color: {}'.format(color)"
   ]
  },
  {
   "cell_type": "code",
   "execution_count": 39,
   "metadata": {},
   "outputs": [],
   "source": [
    "def highlight_updated(column, updated_elements, color='yellow'):\n",
    "    nodes = column.index.get_level_values('Node ID')\n",
    "    return [highlight_true(element) for element in updated_elements.loc[nodes, column.name]]"
   ]
  },
  {
   "cell_type": "code",
   "execution_count": 40,
   "metadata": {},
   "outputs": [
    {
     "output_type": "execute_result",
     "data": {
      "text/plain": "<pandas.io.formats.style.Styler at 0x1e3fd129ec8>",
      "text/html": "<style  type=\"text/css\" >\n    #T_0c1525a4_7796_11ea_b0cf_54e1add432a5row0_col0 {\n            background-color:  none;\n        }    #T_0c1525a4_7796_11ea_b0cf_54e1add432a5row0_col1 {\n            background-color:  none;\n        }    #T_0c1525a4_7796_11ea_b0cf_54e1add432a5row0_col2 {\n            background-color:  none;\n        }    #T_0c1525a4_7796_11ea_b0cf_54e1add432a5row0_col3 {\n            background-color:  none;\n        }    #T_0c1525a4_7796_11ea_b0cf_54e1add432a5row0_col4 {\n            background-color:  none;\n        }    #T_0c1525a4_7796_11ea_b0cf_54e1add432a5row0_col5 {\n            background-color:  none;\n        }    #T_0c1525a4_7796_11ea_b0cf_54e1add432a5row0_col6 {\n            background-color:  none;\n        }    #T_0c1525a4_7796_11ea_b0cf_54e1add432a5row0_col7 {\n            background-color:  none;\n        }    #T_0c1525a4_7796_11ea_b0cf_54e1add432a5row0_col8 {\n            background-color:  none;\n        }    #T_0c1525a4_7796_11ea_b0cf_54e1add432a5row1_col0 {\n            background-color:  none;\n        }    #T_0c1525a4_7796_11ea_b0cf_54e1add432a5row1_col1 {\n            background-color:  none;\n        }    #T_0c1525a4_7796_11ea_b0cf_54e1add432a5row1_col2 {\n            background-color:  none;\n        }    #T_0c1525a4_7796_11ea_b0cf_54e1add432a5row1_col3 {\n            background-color:  none;\n        }    #T_0c1525a4_7796_11ea_b0cf_54e1add432a5row1_col4 {\n            background-color:  none;\n        }    #T_0c1525a4_7796_11ea_b0cf_54e1add432a5row1_col5 {\n            background-color:  none;\n        }    #T_0c1525a4_7796_11ea_b0cf_54e1add432a5row1_col6 {\n            background-color:  none;\n        }    #T_0c1525a4_7796_11ea_b0cf_54e1add432a5row1_col7 {\n            background-color:  none;\n        }    #T_0c1525a4_7796_11ea_b0cf_54e1add432a5row1_col8 {\n            background-color:  none;\n        }    #T_0c1525a4_7796_11ea_b0cf_54e1add432a5row2_col0 {\n            background-color:  none;\n        }    #T_0c1525a4_7796_11ea_b0cf_54e1add432a5row2_col1 {\n            background-color:  none;\n        }    #T_0c1525a4_7796_11ea_b0cf_54e1add432a5row2_col2 {\n            background-color:  none;\n        }    #T_0c1525a4_7796_11ea_b0cf_54e1add432a5row2_col3 {\n            background-color:  none;\n        }    #T_0c1525a4_7796_11ea_b0cf_54e1add432a5row2_col4 {\n            background-color:  none;\n        }    #T_0c1525a4_7796_11ea_b0cf_54e1add432a5row2_col5 {\n            background-color:  none;\n        }    #T_0c1525a4_7796_11ea_b0cf_54e1add432a5row2_col6 {\n            background-color:  none;\n        }    #T_0c1525a4_7796_11ea_b0cf_54e1add432a5row2_col7 {\n            background-color:  none;\n        }    #T_0c1525a4_7796_11ea_b0cf_54e1add432a5row2_col8 {\n            background-color:  none;\n        }    #T_0c1525a4_7796_11ea_b0cf_54e1add432a5row3_col0 {\n            background-color:  none;\n        }    #T_0c1525a4_7796_11ea_b0cf_54e1add432a5row3_col1 {\n            background-color:  none;\n        }    #T_0c1525a4_7796_11ea_b0cf_54e1add432a5row3_col2 {\n            background-color:  none;\n        }    #T_0c1525a4_7796_11ea_b0cf_54e1add432a5row3_col3 {\n            background-color:  none;\n        }    #T_0c1525a4_7796_11ea_b0cf_54e1add432a5row3_col4 {\n            background-color:  none;\n        }    #T_0c1525a4_7796_11ea_b0cf_54e1add432a5row3_col5 {\n            background-color:  none;\n        }    #T_0c1525a4_7796_11ea_b0cf_54e1add432a5row3_col6 {\n            background-color:  none;\n        }    #T_0c1525a4_7796_11ea_b0cf_54e1add432a5row3_col7 {\n            background-color:  none;\n        }    #T_0c1525a4_7796_11ea_b0cf_54e1add432a5row3_col8 {\n            background-color:  none;\n        }    #T_0c1525a4_7796_11ea_b0cf_54e1add432a5row4_col0 {\n            background-color:  none;\n        }    #T_0c1525a4_7796_11ea_b0cf_54e1add432a5row4_col1 {\n            background-color:  none;\n        }    #T_0c1525a4_7796_11ea_b0cf_54e1add432a5row4_col2 {\n            background-color:  none;\n        }    #T_0c1525a4_7796_11ea_b0cf_54e1add432a5row4_col3 {\n            background-color:  none;\n        }    #T_0c1525a4_7796_11ea_b0cf_54e1add432a5row4_col4 {\n            background-color:  none;\n        }    #T_0c1525a4_7796_11ea_b0cf_54e1add432a5row4_col5 {\n            background-color:  none;\n        }    #T_0c1525a4_7796_11ea_b0cf_54e1add432a5row4_col6 {\n            background-color:  none;\n        }    #T_0c1525a4_7796_11ea_b0cf_54e1add432a5row4_col7 {\n            background-color:  none;\n        }    #T_0c1525a4_7796_11ea_b0cf_54e1add432a5row4_col8 {\n            background-color:  none;\n        }    #T_0c1525a4_7796_11ea_b0cf_54e1add432a5row5_col0 {\n            background-color:  none;\n        }    #T_0c1525a4_7796_11ea_b0cf_54e1add432a5row5_col1 {\n            background-color:  none;\n        }    #T_0c1525a4_7796_11ea_b0cf_54e1add432a5row5_col2 {\n            background-color:  none;\n        }    #T_0c1525a4_7796_11ea_b0cf_54e1add432a5row5_col3 {\n            background-color:  none;\n        }    #T_0c1525a4_7796_11ea_b0cf_54e1add432a5row5_col4 {\n            background-color:  none;\n        }    #T_0c1525a4_7796_11ea_b0cf_54e1add432a5row5_col5 {\n            background-color:  none;\n        }    #T_0c1525a4_7796_11ea_b0cf_54e1add432a5row5_col6 {\n            background-color:  none;\n        }    #T_0c1525a4_7796_11ea_b0cf_54e1add432a5row5_col7 {\n            background-color:  none;\n        }    #T_0c1525a4_7796_11ea_b0cf_54e1add432a5row5_col8 {\n            background-color:  none;\n        }    #T_0c1525a4_7796_11ea_b0cf_54e1add432a5row6_col0 {\n            background-color:  none;\n        }    #T_0c1525a4_7796_11ea_b0cf_54e1add432a5row6_col1 {\n            background-color:  none;\n        }    #T_0c1525a4_7796_11ea_b0cf_54e1add432a5row6_col2 {\n            background-color:  none;\n        }    #T_0c1525a4_7796_11ea_b0cf_54e1add432a5row6_col3 {\n            background-color:  none;\n        }    #T_0c1525a4_7796_11ea_b0cf_54e1add432a5row6_col4 {\n            background-color:  none;\n        }    #T_0c1525a4_7796_11ea_b0cf_54e1add432a5row6_col5 {\n            background-color:  none;\n        }    #T_0c1525a4_7796_11ea_b0cf_54e1add432a5row6_col6 {\n            background-color:  none;\n        }    #T_0c1525a4_7796_11ea_b0cf_54e1add432a5row6_col7 {\n            background-color:  none;\n        }    #T_0c1525a4_7796_11ea_b0cf_54e1add432a5row6_col8 {\n            background-color:  none;\n        }    #T_0c1525a4_7796_11ea_b0cf_54e1add432a5row7_col0 {\n            background-color:  none;\n        }    #T_0c1525a4_7796_11ea_b0cf_54e1add432a5row7_col1 {\n            background-color:  none;\n        }    #T_0c1525a4_7796_11ea_b0cf_54e1add432a5row7_col2 {\n            background-color:  none;\n        }    #T_0c1525a4_7796_11ea_b0cf_54e1add432a5row7_col3 {\n            background-color:  none;\n        }    #T_0c1525a4_7796_11ea_b0cf_54e1add432a5row7_col4 {\n            background-color:  none;\n        }    #T_0c1525a4_7796_11ea_b0cf_54e1add432a5row7_col5 {\n            background-color:  none;\n        }    #T_0c1525a4_7796_11ea_b0cf_54e1add432a5row7_col6 {\n            background-color:  none;\n        }    #T_0c1525a4_7796_11ea_b0cf_54e1add432a5row7_col7 {\n            background-color:  none;\n        }    #T_0c1525a4_7796_11ea_b0cf_54e1add432a5row7_col8 {\n            background-color:  none;\n        }    #T_0c1525a4_7796_11ea_b0cf_54e1add432a5row8_col0 {\n            background-color:  none;\n        }    #T_0c1525a4_7796_11ea_b0cf_54e1add432a5row8_col1 {\n            background-color:  none;\n        }    #T_0c1525a4_7796_11ea_b0cf_54e1add432a5row8_col2 {\n            background-color:  none;\n        }    #T_0c1525a4_7796_11ea_b0cf_54e1add432a5row8_col3 {\n            background-color:  none;\n        }    #T_0c1525a4_7796_11ea_b0cf_54e1add432a5row8_col4 {\n            background-color:  none;\n        }    #T_0c1525a4_7796_11ea_b0cf_54e1add432a5row8_col5 {\n            background-color:  none;\n        }    #T_0c1525a4_7796_11ea_b0cf_54e1add432a5row8_col6 {\n            background-color:  none;\n        }    #T_0c1525a4_7796_11ea_b0cf_54e1add432a5row8_col7 {\n            background-color:  none;\n        }    #T_0c1525a4_7796_11ea_b0cf_54e1add432a5row8_col8 {\n            background-color:  none;\n        }    #T_0c1525a4_7796_11ea_b0cf_54e1add432a5row9_col0 {\n            background-color:  none;\n        }    #T_0c1525a4_7796_11ea_b0cf_54e1add432a5row9_col1 {\n            background-color:  none;\n        }    #T_0c1525a4_7796_11ea_b0cf_54e1add432a5row9_col2 {\n            background-color:  none;\n        }    #T_0c1525a4_7796_11ea_b0cf_54e1add432a5row9_col3 {\n            background-color:  none;\n        }    #T_0c1525a4_7796_11ea_b0cf_54e1add432a5row9_col4 {\n            background-color:  none;\n        }    #T_0c1525a4_7796_11ea_b0cf_54e1add432a5row9_col5 {\n            background-color:  none;\n        }    #T_0c1525a4_7796_11ea_b0cf_54e1add432a5row9_col6 {\n            background-color:  none;\n        }    #T_0c1525a4_7796_11ea_b0cf_54e1add432a5row9_col7 {\n            background-color:  none;\n        }    #T_0c1525a4_7796_11ea_b0cf_54e1add432a5row9_col8 {\n            background-color:  none;\n        }    #T_0c1525a4_7796_11ea_b0cf_54e1add432a5row10_col0 {\n            background-color:  none;\n        }    #T_0c1525a4_7796_11ea_b0cf_54e1add432a5row10_col1 {\n            background-color:  none;\n        }    #T_0c1525a4_7796_11ea_b0cf_54e1add432a5row10_col2 {\n            background-color:  none;\n        }    #T_0c1525a4_7796_11ea_b0cf_54e1add432a5row10_col3 {\n            background-color:  none;\n        }    #T_0c1525a4_7796_11ea_b0cf_54e1add432a5row10_col4 {\n            background-color:  none;\n        }    #T_0c1525a4_7796_11ea_b0cf_54e1add432a5row10_col5 {\n            background-color:  none;\n        }    #T_0c1525a4_7796_11ea_b0cf_54e1add432a5row10_col6 {\n            background-color:  none;\n        }    #T_0c1525a4_7796_11ea_b0cf_54e1add432a5row10_col7 {\n            background-color:  none;\n        }    #T_0c1525a4_7796_11ea_b0cf_54e1add432a5row10_col8 {\n            background-color:  none;\n        }    #T_0c1525a4_7796_11ea_b0cf_54e1add432a5row11_col0 {\n            background-color:  none;\n        }    #T_0c1525a4_7796_11ea_b0cf_54e1add432a5row11_col1 {\n            background-color:  none;\n        }    #T_0c1525a4_7796_11ea_b0cf_54e1add432a5row11_col2 {\n            background-color:  none;\n        }    #T_0c1525a4_7796_11ea_b0cf_54e1add432a5row11_col3 {\n            background-color:  none;\n        }    #T_0c1525a4_7796_11ea_b0cf_54e1add432a5row11_col4 {\n            background-color:  none;\n        }    #T_0c1525a4_7796_11ea_b0cf_54e1add432a5row11_col5 {\n            background-color:  none;\n        }    #T_0c1525a4_7796_11ea_b0cf_54e1add432a5row11_col6 {\n            background-color:  none;\n        }    #T_0c1525a4_7796_11ea_b0cf_54e1add432a5row11_col7 {\n            background-color:  yellow;\n        }    #T_0c1525a4_7796_11ea_b0cf_54e1add432a5row11_col8 {\n            background-color:  none;\n        }</style><table id=\"T_0c1525a4_7796_11ea_b0cf_54e1add432a5\" ><thead>    <tr>        <th class=\"blank\" ></th>        <th class=\"blank level0\" ></th>        <th class=\"col_heading level0 col0\" >Level</th>        <th class=\"col_heading level0 col1\" >File Name</th>        <th class=\"col_heading level0 col2\" >Name</th>        <th class=\"col_heading level0 col3\" >D_TITLE</th>        <th class=\"col_heading level0 col4\" >D_TITLE2</th>        <th class=\"col_heading level0 col5\" >D_DESCRIPTION</th>        <th class=\"col_heading level0 col6\" >Quantity</th>        <th class=\"col_heading level0 col7\" >Version</th>        <th class=\"col_heading level0 col8\" >State</th>    </tr>    <tr>        <th class=\"index_name level0\" >Order</th>        <th class=\"index_name level1\" >Node ID</th>        <th class=\"blank\" ></th>        <th class=\"blank\" ></th>        <th class=\"blank\" ></th>        <th class=\"blank\" ></th>        <th class=\"blank\" ></th>        <th class=\"blank\" ></th>        <th class=\"blank\" ></th>        <th class=\"blank\" ></th>        <th class=\"blank\" ></th>    </tr></thead><tbody>\n                <tr>\n                        <th id=\"T_0c1525a4_7796_11ea_b0cf_54e1add432a5level0_row0\" class=\"row_heading level0 row0\" >0</th>\n                        <th id=\"T_0c1525a4_7796_11ea_b0cf_54e1add432a5level1_row0\" class=\"row_heading level1 row0\" >->0015442.asm</th>\n                        <td id=\"T_0c1525a4_7796_11ea_b0cf_54e1add432a5row0_col0\" class=\"data row0 col0\" >0</td>\n                        <td id=\"T_0c1525a4_7796_11ea_b0cf_54e1add432a5row0_col1\" class=\"data row0 col1\" >0015442.asm</td>\n                        <td id=\"T_0c1525a4_7796_11ea_b0cf_54e1add432a5row0_col2\" class=\"data row0 col2\" >0015442.asm</td>\n                        <td id=\"T_0c1525a4_7796_11ea_b0cf_54e1add432a5row0_col3\" class=\"data row0 col3\" >SHIPPING CONFIG, GS2</td>\n                        <td id=\"T_0c1525a4_7796_11ea_b0cf_54e1add432a5row0_col4\" class=\"data row0 col4\" >-</td>\n                        <td id=\"T_0c1525a4_7796_11ea_b0cf_54e1add432a5row0_col5\" class=\"data row0 col5\" >SHIPPING CONFIG, GS2</td>\n                        <td id=\"T_0c1525a4_7796_11ea_b0cf_54e1add432a5row0_col6\" class=\"data row0 col6\" ></td>\n                        <td id=\"T_0c1525a4_7796_11ea_b0cf_54e1add432a5row0_col7\" class=\"data row0 col7\" >0-00.50</td>\n                        <td id=\"T_0c1525a4_7796_11ea_b0cf_54e1add432a5row0_col8\" class=\"data row0 col8\" >Processing</td>\n            </tr>\n            <tr>\n                        <th id=\"T_0c1525a4_7796_11ea_b0cf_54e1add432a5level0_row1\" class=\"row_heading level0 row1\" >1</th>\n                        <th id=\"T_0c1525a4_7796_11ea_b0cf_54e1add432a5level1_row1\" class=\"row_heading level1 row1\" >0015442.asm->0019043.prt</th>\n                        <td id=\"T_0c1525a4_7796_11ea_b0cf_54e1add432a5row1_col0\" class=\"data row1 col0\" >1</td>\n                        <td id=\"T_0c1525a4_7796_11ea_b0cf_54e1add432a5row1_col1\" class=\"data row1 col1\" >    0019043.prt</td>\n                        <td id=\"T_0c1525a4_7796_11ea_b0cf_54e1add432a5row1_col2\" class=\"data row1 col2\" >FS-8100 ID SURFACE MODEL</td>\n                        <td id=\"T_0c1525a4_7796_11ea_b0cf_54e1add432a5row1_col3\" class=\"data row1 col3\" >FS-8100 ID SURFACE MODEL</td>\n                        <td id=\"T_0c1525a4_7796_11ea_b0cf_54e1add432a5row1_col4\" class=\"data row1 col4\" >-</td>\n                        <td id=\"T_0c1525a4_7796_11ea_b0cf_54e1add432a5row1_col5\" class=\"data row1 col5\" >FS-8100 ID SURFACE MODEL</td>\n                        <td id=\"T_0c1525a4_7796_11ea_b0cf_54e1add432a5row1_col6\" class=\"data row1 col6\" >1</td>\n                        <td id=\"T_0c1525a4_7796_11ea_b0cf_54e1add432a5row1_col7\" class=\"data row1 col7\" >0-00.37</td>\n                        <td id=\"T_0c1525a4_7796_11ea_b0cf_54e1add432a5row1_col8\" class=\"data row1 col8\" >Processing</td>\n            </tr>\n            <tr>\n                        <th id=\"T_0c1525a4_7796_11ea_b0cf_54e1add432a5level0_row2\" class=\"row_heading level0 row2\" >2</th>\n                        <th id=\"T_0c1525a4_7796_11ea_b0cf_54e1add432a5level1_row2\" class=\"row_heading level1 row2\" >0015442.asm->0018435.asm</th>\n                        <td id=\"T_0c1525a4_7796_11ea_b0cf_54e1add432a5row2_col0\" class=\"data row2 col0\" >1</td>\n                        <td id=\"T_0c1525a4_7796_11ea_b0cf_54e1add432a5row2_col1\" class=\"data row2 col1\" >    0018435.asm</td>\n                        <td id=\"T_0c1525a4_7796_11ea_b0cf_54e1add432a5row2_col2\" class=\"data row2 col2\" >FS-8100 Chassis assembly - full</td>\n                        <td id=\"T_0c1525a4_7796_11ea_b0cf_54e1add432a5row2_col3\" class=\"data row2 col3\" >FS-8100 Chassis assembly - full</td>\n                        <td id=\"T_0c1525a4_7796_11ea_b0cf_54e1add432a5row2_col4\" class=\"data row2 col4\" ></td>\n                        <td id=\"T_0c1525a4_7796_11ea_b0cf_54e1add432a5row2_col5\" class=\"data row2 col5\" >FS-8100 Chassis assembly - full </td>\n                        <td id=\"T_0c1525a4_7796_11ea_b0cf_54e1add432a5row2_col6\" class=\"data row2 col6\" >1</td>\n                        <td id=\"T_0c1525a4_7796_11ea_b0cf_54e1add432a5row2_col7\" class=\"data row2 col7\" >0-00.24</td>\n                        <td id=\"T_0c1525a4_7796_11ea_b0cf_54e1add432a5row2_col8\" class=\"data row2 col8\" >Processing</td>\n            </tr>\n            <tr>\n                        <th id=\"T_0c1525a4_7796_11ea_b0cf_54e1add432a5level0_row3\" class=\"row_heading level0 row3\" >3</th>\n                        <th id=\"T_0c1525a4_7796_11ea_b0cf_54e1add432a5level1_row3\" class=\"row_heading level1 row3\" >0015442.asm->0018435.asm->0018442.asm</th>\n                        <td id=\"T_0c1525a4_7796_11ea_b0cf_54e1add432a5row3_col0\" class=\"data row3 col0\" >2</td>\n                        <td id=\"T_0c1525a4_7796_11ea_b0cf_54e1add432a5row3_col1\" class=\"data row3 col1\" >        0018442.asm</td>\n                        <td id=\"T_0c1525a4_7796_11ea_b0cf_54e1add432a5row3_col2\" class=\"data row3 col2\" >FS-8100 Chassis Base Assembly</td>\n                        <td id=\"T_0c1525a4_7796_11ea_b0cf_54e1add432a5row3_col3\" class=\"data row3 col3\" >FS-8100 Chassis Base Assembly</td>\n                        <td id=\"T_0c1525a4_7796_11ea_b0cf_54e1add432a5row3_col4\" class=\"data row3 col4\" ></td>\n                        <td id=\"T_0c1525a4_7796_11ea_b0cf_54e1add432a5row3_col5\" class=\"data row3 col5\" >FS-8100 Chassis Base Assembly </td>\n                        <td id=\"T_0c1525a4_7796_11ea_b0cf_54e1add432a5row3_col6\" class=\"data row3 col6\" >1</td>\n                        <td id=\"T_0c1525a4_7796_11ea_b0cf_54e1add432a5row3_col7\" class=\"data row3 col7\" >0-00.6</td>\n                        <td id=\"T_0c1525a4_7796_11ea_b0cf_54e1add432a5row3_col8\" class=\"data row3 col8\" >Processing</td>\n            </tr>\n            <tr>\n                        <th id=\"T_0c1525a4_7796_11ea_b0cf_54e1add432a5level0_row4\" class=\"row_heading level0 row4\" >4</th>\n                        <th id=\"T_0c1525a4_7796_11ea_b0cf_54e1add432a5level1_row4\" class=\"row_heading level1 row4\" >0015442.asm->0018435.asm->0018442.asm->0018441.prt</th>\n                        <td id=\"T_0c1525a4_7796_11ea_b0cf_54e1add432a5row4_col0\" class=\"data row4 col0\" >3</td>\n                        <td id=\"T_0c1525a4_7796_11ea_b0cf_54e1add432a5row4_col1\" class=\"data row4 col1\" >            0018441.prt</td>\n                        <td id=\"T_0c1525a4_7796_11ea_b0cf_54e1add432a5row4_col2\" class=\"data row4 col2\" >FS-9100 base blate - btm plate</td>\n                        <td id=\"T_0c1525a4_7796_11ea_b0cf_54e1add432a5row4_col3\" class=\"data row4 col3\" >FS-9100 base blate - btm plate</td>\n                        <td id=\"T_0c1525a4_7796_11ea_b0cf_54e1add432a5row4_col4\" class=\"data row4 col4\" ></td>\n                        <td id=\"T_0c1525a4_7796_11ea_b0cf_54e1add432a5row4_col5\" class=\"data row4 col5\" >FS-9100 base blate - btm plate </td>\n                        <td id=\"T_0c1525a4_7796_11ea_b0cf_54e1add432a5row4_col6\" class=\"data row4 col6\" >1</td>\n                        <td id=\"T_0c1525a4_7796_11ea_b0cf_54e1add432a5row4_col7\" class=\"data row4 col7\" >0-00.7</td>\n                        <td id=\"T_0c1525a4_7796_11ea_b0cf_54e1add432a5row4_col8\" class=\"data row4 col8\" >Processing</td>\n            </tr>\n            <tr>\n                        <th id=\"T_0c1525a4_7796_11ea_b0cf_54e1add432a5level0_row5\" class=\"row_heading level0 row5\" >6</th>\n                        <th id=\"T_0c1525a4_7796_11ea_b0cf_54e1add432a5level1_row5\" class=\"row_heading level1 row5\" >0015442.asm->0018435.asm->0018442.asm->0011799.prt</th>\n                        <td id=\"T_0c1525a4_7796_11ea_b0cf_54e1add432a5row5_col0\" class=\"data row5 col0\" >3</td>\n                        <td id=\"T_0c1525a4_7796_11ea_b0cf_54e1add432a5row5_col1\" class=\"data row5 col1\" >            0011799.prt</td>\n                        <td id=\"T_0c1525a4_7796_11ea_b0cf_54e1add432a5row5_col2\" class=\"data row5 col2\" >STUD, SC-FH, M6X1.0, 18MM LG, 1.6MM MIN THK, SS 300, PSVT</td>\n                        <td id=\"T_0c1525a4_7796_11ea_b0cf_54e1add432a5row5_col3\" class=\"data row5 col3\" >STUD,SELF-CLINCHING,THD,M6-18,FHS</td>\n                        <td id=\"T_0c1525a4_7796_11ea_b0cf_54e1add432a5row5_col4\" class=\"data row5 col4\" ></td>\n                        <td id=\"T_0c1525a4_7796_11ea_b0cf_54e1add432a5row5_col5\" class=\"data row5 col5\" >STUD,SELF-CLINCHING,THD,M6-18,FHS </td>\n                        <td id=\"T_0c1525a4_7796_11ea_b0cf_54e1add432a5row5_col6\" class=\"data row5 col6\" >12</td>\n                        <td id=\"T_0c1525a4_7796_11ea_b0cf_54e1add432a5row5_col7\" class=\"data row5 col7\" >0-00.4</td>\n                        <td id=\"T_0c1525a4_7796_11ea_b0cf_54e1add432a5row5_col8\" class=\"data row5 col8\" >Alpha Prototype</td>\n            </tr>\n            <tr>\n                        <th id=\"T_0c1525a4_7796_11ea_b0cf_54e1add432a5level0_row6\" class=\"row_heading level0 row6\" >7</th>\n                        <th id=\"T_0c1525a4_7796_11ea_b0cf_54e1add432a5level1_row6\" class=\"row_heading level1 row6\" >0015442.asm->0018435.asm->0018442.asm->0014161.prt</th>\n                        <td id=\"T_0c1525a4_7796_11ea_b0cf_54e1add432a5row6_col0\" class=\"data row6 col0\" >3</td>\n                        <td id=\"T_0c1525a4_7796_11ea_b0cf_54e1add432a5row6_col1\" class=\"data row6 col1\" >            0014161.prt</td>\n                        <td id=\"T_0c1525a4_7796_11ea_b0cf_54e1add432a5row6_col2\" class=\"data row6 col2\" >3 PROJECTION WELDNUT, 3/4\"-10</td>\n                        <td id=\"T_0c1525a4_7796_11ea_b0cf_54e1add432a5row6_col3\" class=\"data row6 col3\" >3 PROJECTION WELDNUT, 3/4\"-10</td>\n                        <td id=\"T_0c1525a4_7796_11ea_b0cf_54e1add432a5row6_col4\" class=\"data row6 col4\" ></td>\n                        <td id=\"T_0c1525a4_7796_11ea_b0cf_54e1add432a5row6_col5\" class=\"data row6 col5\" >3 PROJECTION WELDNUT, 3/4\"-10 </td>\n                        <td id=\"T_0c1525a4_7796_11ea_b0cf_54e1add432a5row6_col6\" class=\"data row6 col6\" >4</td>\n                        <td id=\"T_0c1525a4_7796_11ea_b0cf_54e1add432a5row6_col7\" class=\"data row6 col7\" >0-00.1</td>\n                        <td id=\"T_0c1525a4_7796_11ea_b0cf_54e1add432a5row6_col8\" class=\"data row6 col8\" >Released</td>\n            </tr>\n            <tr>\n                        <th id=\"T_0c1525a4_7796_11ea_b0cf_54e1add432a5level0_row7\" class=\"row_heading level0 row7\" >8</th>\n                        <th id=\"T_0c1525a4_7796_11ea_b0cf_54e1add432a5level1_row7\" class=\"row_heading level1 row7\" >0015442.asm->0018435.asm->0018442.asm->0012468.prt</th>\n                        <td id=\"T_0c1525a4_7796_11ea_b0cf_54e1add432a5row7_col0\" class=\"data row7 col0\" >3</td>\n                        <td id=\"T_0c1525a4_7796_11ea_b0cf_54e1add432a5row7_col1\" class=\"data row7 col1\" >            0012468.prt</td>\n                        <td id=\"T_0c1525a4_7796_11ea_b0cf_54e1add432a5row7_col2\" class=\"data row7 col2\" >RIVET</td>\n                        <td id=\"T_0c1525a4_7796_11ea_b0cf_54e1add432a5row7_col3\" class=\"data row7 col3\" >RIVET</td>\n                        <td id=\"T_0c1525a4_7796_11ea_b0cf_54e1add432a5row7_col4\" class=\"data row7 col4\" ></td>\n                        <td id=\"T_0c1525a4_7796_11ea_b0cf_54e1add432a5row7_col5\" class=\"data row7 col5\" >RIVET </td>\n                        <td id=\"T_0c1525a4_7796_11ea_b0cf_54e1add432a5row7_col6\" class=\"data row7 col6\" >4</td>\n                        <td id=\"T_0c1525a4_7796_11ea_b0cf_54e1add432a5row7_col7\" class=\"data row7 col7\" >0-00.2</td>\n                        <td id=\"T_0c1525a4_7796_11ea_b0cf_54e1add432a5row7_col8\" class=\"data row7 col8\" >Released</td>\n            </tr>\n            <tr>\n                        <th id=\"T_0c1525a4_7796_11ea_b0cf_54e1add432a5level0_row8\" class=\"row_heading level0 row8\" >9</th>\n                        <th id=\"T_0c1525a4_7796_11ea_b0cf_54e1add432a5level1_row8\" class=\"row_heading level1 row8\" >0015442.asm->0018435.asm->0018436.prt</th>\n                        <td id=\"T_0c1525a4_7796_11ea_b0cf_54e1add432a5row8_col0\" class=\"data row8 col0\" >2</td>\n                        <td id=\"T_0c1525a4_7796_11ea_b0cf_54e1add432a5row8_col1\" class=\"data row8 col1\" >        0018436.prt</td>\n                        <td id=\"T_0c1525a4_7796_11ea_b0cf_54e1add432a5row8_col2\" class=\"data row8 col2\" >FS-8100 Chassis vert member SM-Box</td>\n                        <td id=\"T_0c1525a4_7796_11ea_b0cf_54e1add432a5row8_col3\" class=\"data row8 col3\" >FS-8100 Chassis vert member SM-Box</td>\n                        <td id=\"T_0c1525a4_7796_11ea_b0cf_54e1add432a5row8_col4\" class=\"data row8 col4\" ></td>\n                        <td id=\"T_0c1525a4_7796_11ea_b0cf_54e1add432a5row8_col5\" class=\"data row8 col5\" >FS-8100 Chassis vert member SM-Box </td>\n                        <td id=\"T_0c1525a4_7796_11ea_b0cf_54e1add432a5row8_col6\" class=\"data row8 col6\" >4</td>\n                        <td id=\"T_0c1525a4_7796_11ea_b0cf_54e1add432a5row8_col7\" class=\"data row8 col7\" >0-00.15</td>\n                        <td id=\"T_0c1525a4_7796_11ea_b0cf_54e1add432a5row8_col8\" class=\"data row8 col8\" >Processing</td>\n            </tr>\n            <tr>\n                        <th id=\"T_0c1525a4_7796_11ea_b0cf_54e1add432a5level0_row9\" class=\"row_heading level0 row9\" >10</th>\n                        <th id=\"T_0c1525a4_7796_11ea_b0cf_54e1add432a5level1_row9\" class=\"row_heading level1 row9\" >0015442.asm->0018435.asm->0018437.prt</th>\n                        <td id=\"T_0c1525a4_7796_11ea_b0cf_54e1add432a5row9_col0\" class=\"data row9 col0\" >2</td>\n                        <td id=\"T_0c1525a4_7796_11ea_b0cf_54e1add432a5row9_col1\" class=\"data row9 col1\" >        0018437.prt</td>\n                        <td id=\"T_0c1525a4_7796_11ea_b0cf_54e1add432a5row9_col2\" class=\"data row9 col2\" >0018437.prt</td>\n                        <td id=\"T_0c1525a4_7796_11ea_b0cf_54e1add432a5row9_col3\" class=\"data row9 col3\" >0018437.prt</td>\n                        <td id=\"T_0c1525a4_7796_11ea_b0cf_54e1add432a5row9_col4\" class=\"data row9 col4\" ></td>\n                        <td id=\"T_0c1525a4_7796_11ea_b0cf_54e1add432a5row9_col5\" class=\"data row9 col5\" >0018437.prt </td>\n                        <td id=\"T_0c1525a4_7796_11ea_b0cf_54e1add432a5row9_col6\" class=\"data row9 col6\" >1</td>\n                        <td id=\"T_0c1525a4_7796_11ea_b0cf_54e1add432a5row9_col7\" class=\"data row9 col7\" >0-00.9</td>\n                        <td id=\"T_0c1525a4_7796_11ea_b0cf_54e1add432a5row9_col8\" class=\"data row9 col8\" >Processing</td>\n            </tr>\n            <tr>\n                        <th id=\"T_0c1525a4_7796_11ea_b0cf_54e1add432a5level0_row10\" class=\"row_heading level0 row10\" >11</th>\n                        <th id=\"T_0c1525a4_7796_11ea_b0cf_54e1add432a5level1_row10\" class=\"row_heading level1 row10\" >0015442.asm->0018435.asm->0018438.prt</th>\n                        <td id=\"T_0c1525a4_7796_11ea_b0cf_54e1add432a5row10_col0\" class=\"data row10 col0\" >2</td>\n                        <td id=\"T_0c1525a4_7796_11ea_b0cf_54e1add432a5row10_col1\" class=\"data row10 col1\" >        0018438.prt</td>\n                        <td id=\"T_0c1525a4_7796_11ea_b0cf_54e1add432a5row10_col2\" class=\"data row10 col2\" >0018438.prt</td>\n                        <td id=\"T_0c1525a4_7796_11ea_b0cf_54e1add432a5row10_col3\" class=\"data row10 col3\" >0018438.prt</td>\n                        <td id=\"T_0c1525a4_7796_11ea_b0cf_54e1add432a5row10_col4\" class=\"data row10 col4\" ></td>\n                        <td id=\"T_0c1525a4_7796_11ea_b0cf_54e1add432a5row10_col5\" class=\"data row10 col5\" >0018438.prt </td>\n                        <td id=\"T_0c1525a4_7796_11ea_b0cf_54e1add432a5row10_col6\" class=\"data row10 col6\" >1</td>\n                        <td id=\"T_0c1525a4_7796_11ea_b0cf_54e1add432a5row10_col7\" class=\"data row10 col7\" >0-00.7</td>\n                        <td id=\"T_0c1525a4_7796_11ea_b0cf_54e1add432a5row10_col8\" class=\"data row10 col8\" >Processing</td>\n            </tr>\n            <tr>\n                        <th id=\"T_0c1525a4_7796_11ea_b0cf_54e1add432a5level0_row11\" class=\"row_heading level0 row11\" >12</th>\n                        <th id=\"T_0c1525a4_7796_11ea_b0cf_54e1add432a5level1_row11\" class=\"row_heading level1 row11\" >0015442.asm->0018435.asm->0014175.prt</th>\n                        <td id=\"T_0c1525a4_7796_11ea_b0cf_54e1add432a5row11_col0\" class=\"data row11 col0\" >2</td>\n                        <td id=\"T_0c1525a4_7796_11ea_b0cf_54e1add432a5row11_col1\" class=\"data row11 col1\" >        0014175.prt</td>\n                        <td id=\"T_0c1525a4_7796_11ea_b0cf_54e1add432a5row11_col2\" class=\"data row11 col2\" >NUT, M6X1 SS, SERRATED-FLANGE</td>\n                        <td id=\"T_0c1525a4_7796_11ea_b0cf_54e1add432a5row11_col3\" class=\"data row11 col3\" >NUT, M6X1 SS, SERRATED-FLANGE</td>\n                        <td id=\"T_0c1525a4_7796_11ea_b0cf_54e1add432a5row11_col4\" class=\"data row11 col4\" ></td>\n                        <td id=\"T_0c1525a4_7796_11ea_b0cf_54e1add432a5row11_col5\" class=\"data row11 col5\" >NUT, M6X1 SS, SERRATED-FLANGE </td>\n                        <td id=\"T_0c1525a4_7796_11ea_b0cf_54e1add432a5row11_col6\" class=\"data row11 col6\" >12</td>\n                        <td id=\"T_0c1525a4_7796_11ea_b0cf_54e1add432a5row11_col7\" class=\"data row11 col7\" >0-00.0</td>\n                        <td id=\"T_0c1525a4_7796_11ea_b0cf_54e1add432a5row11_col8\" class=\"data row11 col8\" >Released</td>\n            </tr>\n    </tbody></table>"
     },
     "metadata": {},
     "execution_count": 40
    }
   ],
   "source": [
    "master_df.loc[~deleted_nodes, compare_columns].style.apply(highlight_updated, axis=0, args=(updated_elements, ))"
   ]
  }
 ]
}